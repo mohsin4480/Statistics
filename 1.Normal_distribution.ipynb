{
 "cells": [
  {
   "cell_type": "code",
   "execution_count": 1,
   "metadata": {},
   "outputs": [],
   "source": [
    "import pandas as pd\n",
    "import seaborn as sns\n",
    "import matplotlib.pyplot as plt\n",
    "import numpy as np\n",
    "from scipy.stats import shapiro"
   ]
  },
  {
   "cell_type": "code",
   "execution_count": 2,
   "metadata": {},
   "outputs": [
    {
     "data": {
      "text/plain": [
       "<matplotlib.collections.PathCollection at 0x22b0f5d65c0>"
      ]
     },
     "execution_count": 2,
     "metadata": {},
     "output_type": "execute_result"
    },
    {
     "data": {
      "image/png": "[encoded data removed]",
      "text/plain": [
       "<Figure size 360x360 with 1 Axes>"
      ]
     },
     "metadata": {},
     "output_type": "display_data"
    }
   ],
   "source": [
    "def   pdf(x):\n",
    "    mean=np.mean(x)\n",
    "    std=np.std(x)\n",
    "    y_out=1/(std*np.sqrt(2*np.pi))* np.exp(-(x-mean)**2/(2*std**2))\n",
    "    return y_out\n",
    "\n",
    "# to generate an array of x\n",
    "x=np.arange(-2,2,0.1)\n",
    "y=pdf(x)\n",
    "\n",
    "# Plotting the normal curve/bell curve or normal distribution\n",
    "\n",
    "plt.style.use(\"seaborn\")\n",
    "plt.figure(figsize=(5,5))\n",
    "\n",
    "plt.plot(x,y, color=\"brown\", linestyle=\"dashed\")\n",
    "\n",
    "plt.scatter(x,y, marker=\"o\", color=\"yellow\")\n"
   ]
  },
  {
   "cell_type": "markdown",
   "metadata": {},
   "source": [
    "# Steps for checking Normal distribution\n",
    "_Note: (ye sirf numeric variables ke distribution check krne k lea hoti hai)_\n",
    "* Import dataset\n",
    "* subset the dataset\n",
    "* visualization\n",
    "  1. Histogram\n",
    "  2. quantile-quantile-norm plot(qq-normplot)\n",
    "* statistical test to check normality\n",
    "  1. Shapiro Wilk test\n",
    "  2. D'Agostino test\n",
    "  3. Anderson's Darling test\n"
   ]
  },
  {
   "cell_type": "code",
   "execution_count": 3,
   "metadata": {},
   "outputs": [
    {
     "data": {
      "text/html": [
       "<div>\n",
       "<style scoped>\n",
       "    .dataframe tbody tr th:only-of-type {\n",
       "        vertical-align: middle;\n",
       "    }\n",
       "\n",
       "    .dataframe tbody tr th {\n",
       "        vertical-align: top;\n",
       "    }\n",
       "\n",
       "    .dataframe thead th {\n",
       "        text-align: right;\n",
       "    }\n",
       "</style>\n",
       "<table border=\"1\" class=\"dataframe\">\n",
       "  <thead>\n",
       "    <tr style=\"text-align: right;\">\n",
       "      <th></th>\n",
       "      <th>survived</th>\n",
       "      <th>pclass</th>\n",
       "      <th>sex</th>\n",
       "      <th>age</th>\n",
       "      <th>sibsp</th>\n",
       "      <th>parch</th>\n",
       "      <th>fare</th>\n",
       "      <th>embarked</th>\n",
       "      <th>class</th>\n",
       "      <th>who</th>\n",
       "      <th>adult_male</th>\n",
       "      <th>deck</th>\n",
       "      <th>embark_town</th>\n",
       "      <th>alive</th>\n",
       "      <th>alone</th>\n",
       "    </tr>\n",
       "  </thead>\n",
       "  <tbody>\n",
       "    <tr>\n",
       "      <th>0</th>\n",
       "      <td>0</td>\n",
       "      <td>3</td>\n",
       "      <td>male</td>\n",
       "      <td>22.0</td>\n",
       "      <td>1</td>\n",
       "      <td>0</td>\n",
       "      <td>7.2500</td>\n",
       "      <td>S</td>\n",
       "      <td>Third</td>\n",
       "      <td>man</td>\n",
       "      <td>True</td>\n",
       "      <td>NaN</td>\n",
       "      <td>Southampton</td>\n",
       "      <td>no</td>\n",
       "      <td>False</td>\n",
       "    </tr>\n",
       "    <tr>\n",
       "      <th>1</th>\n",
       "      <td>1</td>\n",
       "      <td>1</td>\n",
       "      <td>female</td>\n",
       "      <td>38.0</td>\n",
       "      <td>1</td>\n",
       "      <td>0</td>\n",
       "      <td>71.2833</td>\n",
       "      <td>C</td>\n",
       "      <td>First</td>\n",
       "      <td>woman</td>\n",
       "      <td>False</td>\n",
       "      <td>C</td>\n",
       "      <td>Cherbourg</td>\n",
       "      <td>yes</td>\n",
       "      <td>False</td>\n",
       "    </tr>\n",
       "    <tr>\n",
       "      <th>2</th>\n",
       "      <td>1</td>\n",
       "      <td>3</td>\n",
       "      <td>female</td>\n",
       "      <td>26.0</td>\n",
       "      <td>0</td>\n",
       "      <td>0</td>\n",
       "      <td>7.9250</td>\n",
       "      <td>S</td>\n",
       "      <td>Third</td>\n",
       "      <td>woman</td>\n",
       "      <td>False</td>\n",
       "      <td>NaN</td>\n",
       "      <td>Southampton</td>\n",
       "      <td>yes</td>\n",
       "      <td>True</td>\n",
       "    </tr>\n",
       "    <tr>\n",
       "      <th>3</th>\n",
       "      <td>1</td>\n",
       "      <td>1</td>\n",
       "      <td>female</td>\n",
       "      <td>35.0</td>\n",
       "      <td>1</td>\n",
       "      <td>0</td>\n",
       "      <td>53.1000</td>\n",
       "      <td>S</td>\n",
       "      <td>First</td>\n",
       "      <td>woman</td>\n",
       "      <td>False</td>\n",
       "      <td>C</td>\n",
       "      <td>Southampton</td>\n",
       "      <td>yes</td>\n",
       "      <td>False</td>\n",
       "    </tr>\n",
       "    <tr>\n",
       "      <th>4</th>\n",
       "      <td>0</td>\n",
       "      <td>3</td>\n",
       "      <td>male</td>\n",
       "      <td>35.0</td>\n",
       "      <td>0</td>\n",
       "      <td>0</td>\n",
       "      <td>8.0500</td>\n",
       "      <td>S</td>\n",
       "      <td>Third</td>\n",
       "      <td>man</td>\n",
       "      <td>True</td>\n",
       "      <td>NaN</td>\n",
       "      <td>Southampton</td>\n",
       "      <td>no</td>\n",
       "      <td>True</td>\n",
       "    </tr>\n",
       "  </tbody>\n",
       "</table>\n",
       "</div>"
      ],
      "text/plain": [
       "   survived  pclass     sex   age  sibsp  parch     fare embarked  class  \\\n",
       "0         0       3    male  22.0      1      0   7.2500        S  Third   \n",
       "1         1       1  female  38.0      1      0  71.2833        C  First   \n",
       "2         1       3  female  26.0      0      0   7.9250        S  Third   \n",
       "3         1       1  female  35.0      1      0  53.1000        S  First   \n",
       "4         0       3    male  35.0      0      0   8.0500        S  Third   \n",
       "\n",
       "     who  adult_male deck  embark_town alive  alone  \n",
       "0    man        True  NaN  Southampton    no  False  \n",
       "1  woman       False    C    Cherbourg   yes  False  \n",
       "2  woman       False  NaN  Southampton   yes   True  \n",
       "3  woman       False    C  Southampton   yes  False  \n",
       "4    man        True  NaN  Southampton    no   True  "
      ]
     },
     "execution_count": 3,
     "metadata": {},
     "output_type": "execute_result"
    }
   ],
   "source": [
    "#import dataset\n",
    "\n",
    "kashti=sns.load_dataset(\"titanic\")\n",
    "kashti.head()"
   ]
  },
  {
   "cell_type": "code",
   "execution_count": 4,
   "metadata": {},
   "outputs": [
    {
     "data": {
      "text/html": [
       "<div>\n",
       "<style scoped>\n",
       "    .dataframe tbody tr th:only-of-type {\n",
       "        vertical-align: middle;\n",
       "    }\n",
       "\n",
       "    .dataframe tbody tr th {\n",
       "        vertical-align: top;\n",
       "    }\n",
       "\n",
       "    .dataframe thead th {\n",
       "        text-align: right;\n",
       "    }\n",
       "</style>\n",
       "<table border=\"1\" class=\"dataframe\">\n",
       "  <thead>\n",
       "    <tr style=\"text-align: right;\">\n",
       "      <th></th>\n",
       "      <th>sex</th>\n",
       "      <th>age</th>\n",
       "      <th>fare</th>\n",
       "    </tr>\n",
       "  </thead>\n",
       "  <tbody>\n",
       "    <tr>\n",
       "      <th>0</th>\n",
       "      <td>male</td>\n",
       "      <td>22.0</td>\n",
       "      <td>7.2500</td>\n",
       "    </tr>\n",
       "    <tr>\n",
       "      <th>1</th>\n",
       "      <td>female</td>\n",
       "      <td>38.0</td>\n",
       "      <td>71.2833</td>\n",
       "    </tr>\n",
       "    <tr>\n",
       "      <th>2</th>\n",
       "      <td>female</td>\n",
       "      <td>26.0</td>\n",
       "      <td>7.9250</td>\n",
       "    </tr>\n",
       "    <tr>\n",
       "      <th>3</th>\n",
       "      <td>female</td>\n",
       "      <td>35.0</td>\n",
       "      <td>53.1000</td>\n",
       "    </tr>\n",
       "    <tr>\n",
       "      <th>4</th>\n",
       "      <td>male</td>\n",
       "      <td>35.0</td>\n",
       "      <td>8.0500</td>\n",
       "    </tr>\n",
       "    <tr>\n",
       "      <th>...</th>\n",
       "      <td>...</td>\n",
       "      <td>...</td>\n",
       "      <td>...</td>\n",
       "    </tr>\n",
       "    <tr>\n",
       "      <th>886</th>\n",
       "      <td>male</td>\n",
       "      <td>27.0</td>\n",
       "      <td>13.0000</td>\n",
       "    </tr>\n",
       "    <tr>\n",
       "      <th>887</th>\n",
       "      <td>female</td>\n",
       "      <td>19.0</td>\n",
       "      <td>30.0000</td>\n",
       "    </tr>\n",
       "    <tr>\n",
       "      <th>888</th>\n",
       "      <td>female</td>\n",
       "      <td>NaN</td>\n",
       "      <td>23.4500</td>\n",
       "    </tr>\n",
       "    <tr>\n",
       "      <th>889</th>\n",
       "      <td>male</td>\n",
       "      <td>26.0</td>\n",
       "      <td>30.0000</td>\n",
       "    </tr>\n",
       "    <tr>\n",
       "      <th>890</th>\n",
       "      <td>male</td>\n",
       "      <td>32.0</td>\n",
       "      <td>7.7500</td>\n",
       "    </tr>\n",
       "  </tbody>\n",
       "</table>\n",
       "<p>891 rows × 3 columns</p>\n",
       "</div>"
      ],
      "text/plain": [
       "        sex   age     fare\n",
       "0      male  22.0   7.2500\n",
       "1    female  38.0  71.2833\n",
       "2    female  26.0   7.9250\n",
       "3    female  35.0  53.1000\n",
       "4      male  35.0   8.0500\n",
       "..      ...   ...      ...\n",
       "886    male  27.0  13.0000\n",
       "887  female  19.0  30.0000\n",
       "888  female   NaN  23.4500\n",
       "889    male  26.0  30.0000\n",
       "890    male  32.0   7.7500\n",
       "\n",
       "[891 rows x 3 columns]"
      ]
     },
     "execution_count": 4,
     "metadata": {},
     "output_type": "execute_result"
    }
   ],
   "source": [
    "# taking subsets\n",
    "kashti=kashti[[\"sex\",\"age\",\"fare\"]]\n",
    "kashti"
   ]
  },
  {
   "cell_type": "code",
   "execution_count": 5,
   "metadata": {},
   "outputs": [
    {
     "data": {
      "text/plain": [
       "<AxesSubplot:xlabel='age', ylabel='Count'>"
      ]
     },
     "execution_count": 5,
     "metadata": {},
     "output_type": "execute_result"
    },
    {
     "data": {
      "image/png": "[encoded data removed]",
      "text/plain": [
       "<Figure size 576x396 with 1 Axes>"
      ]
     },
     "metadata": {},
     "output_type": "display_data"
    }
   ],
   "source": [
    "# Histogram\n",
    "sns.histplot(kashti[\"age\"])"
   ]
  },
  {
   "cell_type": "code",
   "execution_count": 6,
   "metadata": {},
   "outputs": [
    {
     "data": {
      "text/plain": [
       "<AxesSubplot:xlabel='fare', ylabel='Count'>"
      ]
     },
     "execution_count": 6,
     "metadata": {},
     "output_type": "execute_result"
    },
    {
     "data": {
      "image/png": "[encoded data removed]",
      "text/plain": [
       "<Figure size 576x396 with 1 Axes>"
      ]
     },
     "metadata": {},
     "output_type": "display_data"
    }
   ],
   "source": [
    "sns.histplot(kashti[\"fare\"])"
   ]
  },
  {
   "cell_type": "code",
   "execution_count": 7,
   "metadata": {},
   "outputs": [
    {
     "data": {
      "image/png": "[encoded data removed]",
      "text/plain": [
       "<Figure size 576x396 with 1 Axes>"
      ]
     },
     "execution_count": 7,
     "metadata": {},
     "output_type": "execute_result"
    },
    {
     "data": {
      "image/png": "[encoded data removed]",
      "text/plain": [
       "<Figure size 576x396 with 1 Axes>"
      ]
     },
     "metadata": {},
     "output_type": "display_data"
    }
   ],
   "source": [
    "# quantile-quantile plot\n",
    "from statsmodels.graphics.gofplots import qqplot\n",
    "qqplot(kashti[\"age\"])"
   ]
  },
  {
   "cell_type": "code",
   "execution_count": 8,
   "metadata": {},
   "outputs": [
    {
     "data": {
      "image/png": "[encoded data removed]",
      "text/plain": [
       "<Figure size 576x396 with 1 Axes>"
      ]
     },
     "execution_count": 8,
     "metadata": {},
     "output_type": "execute_result"
    },
    {
     "data": {
      "image/png": "[encoded data removed]",
      "text/plain": [
       "<Figure size 576x396 with 1 Axes>"
      ]
     },
     "metadata": {},
     "output_type": "display_data"
    }
   ],
   "source": [
    "qqplot(kashti[\"fare\"])"
   ]
  },
  {
   "cell_type": "markdown",
   "metadata": {},
   "source": [
    "# Normality\n",
    "  There are many statistical tests that we can use to quantify\n",
    "\n",
    "  whether a group of sample data looks as though it was drawn\n",
    "\n",
    "  from gaussian distribution\n",
    "\n",
    "  Each test makes diffierent assumptions and considers diffrent concepts of data.\n",
    "\n",
    "  We will look at 3 commonly used tests that we apply to our sample\n",
    "\n",
    "  1. Shapiro Wilk test\n",
    "  2. D'Agustino's K^2 test\n",
    "  3. Anderson's darling test\n",
    "\n",
    ">   p < alpha :reject Ho,Not normal\n",
    "> \n",
    ">   p > alpha  :reject Ha,Normal"
   ]
  },
  {
   "cell_type": "markdown",
   "metadata": {},
   "source": [
    "## 1- Shapiro Wilk Test\n",
    "\n",
    "whether the sample data has gausssian/normal distribution\n",
    "\n",
    " **Assumtions**\n",
    "\n",
    " Observations in each sample are independent and identically distributed(iid)\n",
    "\n",
    " **Interpretation**\n",
    "\n",
    "- H0=sample has gaussian/normal distribution\n",
    "- H1=sample does not have guassian/normal distribution\n",
    "- \n",
    "\n",
    " # (script of SWT(NT) to apply on any data) \n",
    "\n",
    "\n",
    "```\n",
    " from scipy.stats import shapiro\n",
    "\n",
    " data=[\"numerical data]\n",
    " stat,p=shapiro(data)\n",
    " print(\"stat=\",stat)\n",
    " print(\"p=\",p)\n",
    "\n",
    " if  p > 0.05: \n",
    "    print(\"data is normal\")\n",
    "else:\n",
    "    print(\"data is not normal\")  \n"
   ]
  },
  {
   "cell_type": "code",
   "execution_count": 9,
   "metadata": {},
   "outputs": [
    {
     "name": "stdout",
     "output_type": "stream",
     "text": [
      "stat=nan\n",
      "p=1.000\n",
      "data is normal\n"
     ]
    }
   ],
   "source": [
    "from scipy.stats import shapiro\n",
    "\n",
    "#Loading dataset\n",
    "kashti=kashti[[\"sex\",\"age\",\"fare\"]]\n",
    "\n",
    "# Shapiro on age\n",
    "stat,p=shapiro(kashti[\"age\"])\n",
    "print(\"stat=%.3f\" % stat) #Replace , with % to get ans upto 3 decimal digits\n",
    "print(\"p=%.3f\" % p)\n",
    "\n",
    "\n",
    "if  p > 0.05: \n",
    "    print(\"data is normal\")\n",
    "else:\n",
    "    print(\"data is not normal\") \n",
    "\n"
   ]
  },
  {
   "cell_type": "code",
   "execution_count": 10,
   "metadata": {},
   "outputs": [
    {
     "name": "stdout",
     "output_type": "stream",
     "text": [
      "stat=0.522\n",
      "p=0.000\n",
      "data is not normal\n"
     ]
    }
   ],
   "source": [
    "# Shapiro on fare\n",
    "stat,p=shapiro(kashti[\"fare\"])\n",
    "print(\"stat=%.3f\" % stat) #Replace , with % to get ans upto 3 decimal digits\n",
    "print(\"p=%.3f\" % p)\n",
    "\n",
    "\n",
    "if  p > 0.05: \n",
    "    print(\"data is normal\")\n",
    "else:\n",
    "    print(\"data is not normal\")  "
   ]
  },
  {
   "cell_type": "markdown",
   "metadata": {},
   "source": [
    "# 2. D’Agostino’s K^2 Test\n",
    "\n",
    "DA test basically gives us summary statistics of the data.\n",
    "\n",
    "The summary includes kurtosis and skewness, to determine if\n",
    "\n",
    "the data distribution differs from the normal distribution.\n",
    "\n",
    "**Skew**\n",
    "\n",
    "Skew is a quantification of how much a distribution is pushed\n",
    "\n",
    "left or right, a measure of asymmetry in the distribution.\n",
    "\n",
    "Skew measures the asymmetry in the distribution.\n",
    "\n",
    "It quantifies how much distribution is pushed to left or right.\n",
    "**\n",
    "Kurtosis**\n",
    "\n",
    "Kurtosis quantifies how much of the distribution is in the tail. It is a simple and commonly used statistical test for normality.\n",
    "\n",
    "**Assumptions**\n",
    "\n",
    "Observations in each sample are independent and identically distributed.\n",
    "\n",
    "**Interpretation**\n",
    "\n",
    "H0: the sample has a Gaussian distribution.\n",
    "\n",
    "H1: the sample does not have a Gaussian distribution."
   ]
  },
  {
   "cell_type": "code",
   "execution_count": 11,
   "metadata": {},
   "outputs": [
    {
     "name": "stdout",
     "output_type": "stream",
     "text": [
      "Statistics=nan, p=nan\n",
      "Sample does not look Gaussian (reject H0)\n"
     ]
    }
   ],
   "source": [
    "# D'Agostino and Pearson's Test\n",
    "from scipy.stats import normaltest\n",
    "# normality test\n",
    "stat, p = normaltest(kashti[\"age\"])\n",
    "print('Statistics=%.3f, p=%.3f' % (stat, p))\n",
    "# interpret results\n",
    "alpha = 0.05\n",
    "if p > alpha:\n",
    "    print('Sample looks Gaussian (fail to reject H0)')\n",
    "else:\n",
    "    print('Sample does not look Gaussian (reject H0)')"
   ]
  },
  {
   "cell_type": "markdown",
   "metadata": {},
   "source": [
    "# 3. Anderson-Darling Test\n",
    "\n",
    "Anderson-Darling Test is a statistical test that can be used to evaluate\n",
    "\n",
    "whether a data sample is in Standard Gaussian Distribution or not.\n",
    "\n",
    "The test is a improved version of nonparametric goodness-of-fit statistical test\n",
    "\n",
    "i.e. Kolmogorov-Smirnov test.\n",
    "\n",
    "It can be used to check whether a data sample is normal.\n",
    "\n",
    "The test is a modified version of a more sophisticated \n",
    "\n",
    "nonparametric goodness-of-fit statistical test called the Kolmogorov-Smirnov test.\n",
    "\n",
    "One of the features of Anderson-Darling test is that it returns\n",
    "\n",
    "list of critical value other than single p-value hence it provide\n",
    "\n",
    "us more insights on the final result.\n",
    "\n",
    "The anderson() SciPy function implements the Anderson-Darling test.\n",
    "\n",
    "It takes as parameters the data sample and the name of the distribution\n",
    "\n",
    "to test it against. By default, the test will check against the Gaussian distribution (dist=’norm’)"
   ]
  },
  {
   "cell_type": "code",
   "execution_count": 12,
   "metadata": {},
   "outputs": [
    {
     "name": "stdout",
     "output_type": "stream",
     "text": [
      "Statistic: nan\n",
      "15.000: 0.573, data does not look normal (reject H0)\n",
      "10.000: 0.653, data does not look normal (reject H0)\n",
      "5.000: 0.784, data does not look normal (reject H0)\n",
      "2.500: 0.914, data does not look normal (reject H0)\n",
      "1.000: 1.087, data does not look normal (reject H0)\n"
     ]
    }
   ],
   "source": [
    "# Anderson-Darling Test\n",
    "from scipy.stats import anderson\n",
    "# normality test\n",
    "result = anderson(kashti[\"age\"])\n",
    "print('Statistic: %.3f' % result.statistic)\n",
    "p = 0\n",
    "# interpret results\n",
    "for i in range(len(result.critical_values)):\n",
    "    slevel, cvalues = result.significance_level[i], result.critical_values[i]\n",
    "    if result.statistic < result.critical_values[i]:\n",
    "        print('%.3f: %.3f, data looks normal (fail to reject H0)' % (slevel, cvalues))\n",
    "    else:\n",
    "        print('%.3f: %.3f, data does not look normal (reject H0)' % (slevel, cvalues))"
   ]
  },
  {
   "cell_type": "markdown",
   "metadata": {},
   "source": [
    "# What Test Should You Use?\n",
    "\n",
    "We have covered a few normality tests, but this is not all of the tests that exist.\n",
    "\n",
    "So which test do you use?\n",
    "\n",
    "I recommend using them all on your data, where appropriate.\n",
    "\n",
    "The question then becomes, how do you interpret the results? What if the tests disagree, which they often will?\n",
    "\n",
    "I have two suggestions for you to help think about this question.\n",
    "\n",
    "# Hard Fail\n",
    "\n",
    "Your data may not be normal for lots of different reasons.\n",
    "\n",
    "Each test looks at the question of whether a sample was drawn\n",
    "\n",
    "from a Gaussian distribution from a slightly different perspective.\n",
    "\n",
    "A failure of one normality test means that your data is not normal.\n",
    "\n",
    "As simple as that.\n",
    "\n",
    "You can either investigate why your data is not normal and\n",
    "\n",
    "perhaps use data preparation techniques to make the data more normal.\n",
    "\n",
    "Or you can start looking into the use of nonparametric statistical methods\n",
    "\n",
    "instead of the parametric methods.\n",
    "\n",
    "# Soft Fail\n",
    "\n",
    "If some of the methods suggest that the sample is Gaussian\n",
    "\n",
    "and some not, then perhaps take this as an indication that your data is Gaussian-like.\n",
    "\n",
    "In many situations, you can treat your data as though it is Gaussian \n",
    "\n",
    "and proceed with your chosen parametric statistical methods."
   ]
  }
 ],
 "metadata": {
  "interpreter": {
   "hash": "80f0110f7c3cd486b9440f1bec1e1bdcec7b5440deadf4b7939e76817772aea9"
  },
  "kernelspec": {
   "display_name": "Python 3.10.3 64-bit",
   "language": "python",
   "name": "python3"
  },
  "language_info": {
   "codemirror_mode": {
    "name": "ipython",
    "version": 3
   },
   "file_extension": ".py",
   "mimetype": "text/x-python",
   "name": "python",
   "nbconvert_exporter": "python",
   "pygments_lexer": "ipython3",
   "version": "3.10.3"
  },
  "orig_nbformat": 4
 },
 "nbformat": 4,
 "nbformat_minor": 2
}
