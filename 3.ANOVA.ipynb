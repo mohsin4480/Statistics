{
 "cells": [
  {
   "cell_type": "markdown",
   "metadata": {},
   "source": [
    "# Assignment:\n",
    "\n",
    ">         ANOVA\n",
    "\n",
    "## Submitted by:\n",
    "\n",
    ">         M.Mohsin ur Rehman Khan\n",
    ">         email:mohsinrehman677@gmail.com\n",
    ">         Ph # +923048827042\n",
    ">         Mianwali,Punjab,Pakistan\n",
    "\n",
    "## Submitted to:\n",
    "\n",
    ">         Dr. Muhammad Ammar Tufail\n",
    "\n",
    "        **Date:(03/31/2022)**   "
   ]
  },
  {
   "cell_type": "markdown",
   "metadata": {},
   "source": [
    "# Parametric Tests to analyze the variance\n",
    "\n",
    "# 1. Analysis of Variance (ANOVA) \n",
    "\n",
    ">   An \"Analysis of Variance\" (ANOVA) tests three or more groups for mean differences based on a continuous\n",
    "> \n",
    ">   (i.e. scale or interval) response variable (a.k.a. dependent variable). \n",
    "\n",
    "\n",
    "  **Types:**\n",
    "\n",
    "\n",
    ">  (1) \"one-way\"\n",
    "> \n",
    ">  (2) \"two-way\""
   ]
  },
  {
   "cell_type": "code",
   "execution_count": 1,
   "metadata": {},
   "outputs": [],
   "source": [
    "#Importing libraries\n",
    "import seaborn as sns\n",
    "import pandas as pd\n",
    "import numpy as np\n",
    "import scipy.stats"
   ]
  },
  {
   "cell_type": "code",
   "execution_count": 2,
   "metadata": {},
   "outputs": [
    {
     "data": {
      "text/html": [
       "<div>\n",
       "<style scoped>\n",
       "    .dataframe tbody tr th:only-of-type {\n",
       "        vertical-align: middle;\n",
       "    }\n",
       "\n",
       "    .dataframe tbody tr th {\n",
       "        vertical-align: top;\n",
       "    }\n",
       "\n",
       "    .dataframe thead th {\n",
       "        text-align: right;\n",
       "    }\n",
       "</style>\n",
       "<table border=\"1\" class=\"dataframe\">\n",
       "  <thead>\n",
       "    <tr style=\"text-align: right;\">\n",
       "      <th></th>\n",
       "      <th>total_bill</th>\n",
       "      <th>tip</th>\n",
       "      <th>sex</th>\n",
       "      <th>smoker</th>\n",
       "      <th>day</th>\n",
       "      <th>time</th>\n",
       "      <th>size</th>\n",
       "    </tr>\n",
       "  </thead>\n",
       "  <tbody>\n",
       "    <tr>\n",
       "      <th>0</th>\n",
       "      <td>16.99</td>\n",
       "      <td>1.01</td>\n",
       "      <td>Female</td>\n",
       "      <td>No</td>\n",
       "      <td>Sun</td>\n",
       "      <td>Dinner</td>\n",
       "      <td>2</td>\n",
       "    </tr>\n",
       "    <tr>\n",
       "      <th>1</th>\n",
       "      <td>10.34</td>\n",
       "      <td>1.66</td>\n",
       "      <td>Male</td>\n",
       "      <td>No</td>\n",
       "      <td>Sun</td>\n",
       "      <td>Dinner</td>\n",
       "      <td>3</td>\n",
       "    </tr>\n",
       "    <tr>\n",
       "      <th>2</th>\n",
       "      <td>21.01</td>\n",
       "      <td>3.50</td>\n",
       "      <td>Male</td>\n",
       "      <td>No</td>\n",
       "      <td>Sun</td>\n",
       "      <td>Dinner</td>\n",
       "      <td>3</td>\n",
       "    </tr>\n",
       "    <tr>\n",
       "      <th>3</th>\n",
       "      <td>23.68</td>\n",
       "      <td>3.31</td>\n",
       "      <td>Male</td>\n",
       "      <td>No</td>\n",
       "      <td>Sun</td>\n",
       "      <td>Dinner</td>\n",
       "      <td>2</td>\n",
       "    </tr>\n",
       "    <tr>\n",
       "      <th>4</th>\n",
       "      <td>24.59</td>\n",
       "      <td>3.61</td>\n",
       "      <td>Female</td>\n",
       "      <td>No</td>\n",
       "      <td>Sun</td>\n",
       "      <td>Dinner</td>\n",
       "      <td>4</td>\n",
       "    </tr>\n",
       "  </tbody>\n",
       "</table>\n",
       "</div>"
      ],
      "text/plain": [
       "   total_bill   tip     sex smoker  day    time  size\n",
       "0       16.99  1.01  Female     No  Sun  Dinner     2\n",
       "1       10.34  1.66    Male     No  Sun  Dinner     3\n",
       "2       21.01  3.50    Male     No  Sun  Dinner     3\n",
       "3       23.68  3.31    Male     No  Sun  Dinner     2\n",
       "4       24.59  3.61  Female     No  Sun  Dinner     4"
      ]
     },
     "execution_count": 2,
     "metadata": {},
     "output_type": "execute_result"
    }
   ],
   "source": [
    "#Loading dataset\n",
    "df=sns.load_dataset(\"tips\")\n",
    "df.head()"
   ]
  },
  {
   "cell_type": "code",
   "execution_count": 3,
   "metadata": {},
   "outputs": [
    {
     "data": {
      "text/html": [
       "<div>\n",
       "<style scoped>\n",
       "    .dataframe tbody tr th:only-of-type {\n",
       "        vertical-align: middle;\n",
       "    }\n",
       "\n",
       "    .dataframe tbody tr th {\n",
       "        vertical-align: top;\n",
       "    }\n",
       "\n",
       "    .dataframe thead th {\n",
       "        text-align: right;\n",
       "    }\n",
       "</style>\n",
       "<table border=\"1\" class=\"dataframe\">\n",
       "  <thead>\n",
       "    <tr style=\"text-align: right;\">\n",
       "      <th></th>\n",
       "      <th>total_bill</th>\n",
       "      <th>tip</th>\n",
       "      <th>sex</th>\n",
       "      <th>smoker</th>\n",
       "      <th>day</th>\n",
       "      <th>time</th>\n",
       "      <th>size</th>\n",
       "    </tr>\n",
       "  </thead>\n",
       "  <tbody>\n",
       "    <tr>\n",
       "      <th>28</th>\n",
       "      <td>21.70</td>\n",
       "      <td>4.30</td>\n",
       "      <td>Male</td>\n",
       "      <td>No</td>\n",
       "      <td>Sat</td>\n",
       "      <td>Dinner</td>\n",
       "      <td>2</td>\n",
       "    </tr>\n",
       "    <tr>\n",
       "      <th>158</th>\n",
       "      <td>13.39</td>\n",
       "      <td>2.61</td>\n",
       "      <td>Female</td>\n",
       "      <td>No</td>\n",
       "      <td>Sun</td>\n",
       "      <td>Dinner</td>\n",
       "      <td>2</td>\n",
       "    </tr>\n",
       "    <tr>\n",
       "      <th>88</th>\n",
       "      <td>24.71</td>\n",
       "      <td>5.85</td>\n",
       "      <td>Male</td>\n",
       "      <td>No</td>\n",
       "      <td>Thur</td>\n",
       "      <td>Lunch</td>\n",
       "      <td>2</td>\n",
       "    </tr>\n",
       "    <tr>\n",
       "      <th>183</th>\n",
       "      <td>23.17</td>\n",
       "      <td>6.50</td>\n",
       "      <td>Male</td>\n",
       "      <td>Yes</td>\n",
       "      <td>Sun</td>\n",
       "      <td>Dinner</td>\n",
       "      <td>4</td>\n",
       "    </tr>\n",
       "    <tr>\n",
       "      <th>19</th>\n",
       "      <td>20.65</td>\n",
       "      <td>3.35</td>\n",
       "      <td>Male</td>\n",
       "      <td>No</td>\n",
       "      <td>Sat</td>\n",
       "      <td>Dinner</td>\n",
       "      <td>3</td>\n",
       "    </tr>\n",
       "    <tr>\n",
       "      <th>56</th>\n",
       "      <td>38.01</td>\n",
       "      <td>3.00</td>\n",
       "      <td>Male</td>\n",
       "      <td>Yes</td>\n",
       "      <td>Sat</td>\n",
       "      <td>Dinner</td>\n",
       "      <td>4</td>\n",
       "    </tr>\n",
       "    <tr>\n",
       "      <th>173</th>\n",
       "      <td>31.85</td>\n",
       "      <td>3.18</td>\n",
       "      <td>Male</td>\n",
       "      <td>Yes</td>\n",
       "      <td>Sun</td>\n",
       "      <td>Dinner</td>\n",
       "      <td>2</td>\n",
       "    </tr>\n",
       "    <tr>\n",
       "      <th>21</th>\n",
       "      <td>20.29</td>\n",
       "      <td>2.75</td>\n",
       "      <td>Female</td>\n",
       "      <td>No</td>\n",
       "      <td>Sat</td>\n",
       "      <td>Dinner</td>\n",
       "      <td>2</td>\n",
       "    </tr>\n",
       "    <tr>\n",
       "      <th>106</th>\n",
       "      <td>20.49</td>\n",
       "      <td>4.06</td>\n",
       "      <td>Male</td>\n",
       "      <td>Yes</td>\n",
       "      <td>Sat</td>\n",
       "      <td>Dinner</td>\n",
       "      <td>2</td>\n",
       "    </tr>\n",
       "    <tr>\n",
       "      <th>160</th>\n",
       "      <td>21.50</td>\n",
       "      <td>3.50</td>\n",
       "      <td>Male</td>\n",
       "      <td>No</td>\n",
       "      <td>Sun</td>\n",
       "      <td>Dinner</td>\n",
       "      <td>4</td>\n",
       "    </tr>\n",
       "    <tr>\n",
       "      <th>70</th>\n",
       "      <td>12.02</td>\n",
       "      <td>1.97</td>\n",
       "      <td>Male</td>\n",
       "      <td>No</td>\n",
       "      <td>Sat</td>\n",
       "      <td>Dinner</td>\n",
       "      <td>2</td>\n",
       "    </tr>\n",
       "    <tr>\n",
       "      <th>234</th>\n",
       "      <td>15.53</td>\n",
       "      <td>3.00</td>\n",
       "      <td>Male</td>\n",
       "      <td>Yes</td>\n",
       "      <td>Sat</td>\n",
       "      <td>Dinner</td>\n",
       "      <td>2</td>\n",
       "    </tr>\n",
       "    <tr>\n",
       "      <th>191</th>\n",
       "      <td>19.81</td>\n",
       "      <td>4.19</td>\n",
       "      <td>Female</td>\n",
       "      <td>Yes</td>\n",
       "      <td>Thur</td>\n",
       "      <td>Lunch</td>\n",
       "      <td>2</td>\n",
       "    </tr>\n",
       "    <tr>\n",
       "      <th>64</th>\n",
       "      <td>17.59</td>\n",
       "      <td>2.64</td>\n",
       "      <td>Male</td>\n",
       "      <td>No</td>\n",
       "      <td>Sat</td>\n",
       "      <td>Dinner</td>\n",
       "      <td>3</td>\n",
       "    </tr>\n",
       "    <tr>\n",
       "      <th>61</th>\n",
       "      <td>13.81</td>\n",
       "      <td>2.00</td>\n",
       "      <td>Male</td>\n",
       "      <td>Yes</td>\n",
       "      <td>Sat</td>\n",
       "      <td>Dinner</td>\n",
       "      <td>2</td>\n",
       "    </tr>\n",
       "  </tbody>\n",
       "</table>\n",
       "</div>"
      ],
      "text/plain": [
       "     total_bill   tip     sex smoker   day    time  size\n",
       "28        21.70  4.30    Male     No   Sat  Dinner     2\n",
       "158       13.39  2.61  Female     No   Sun  Dinner     2\n",
       "88        24.71  5.85    Male     No  Thur   Lunch     2\n",
       "183       23.17  6.50    Male    Yes   Sun  Dinner     4\n",
       "19        20.65  3.35    Male     No   Sat  Dinner     3\n",
       "56        38.01  3.00    Male    Yes   Sat  Dinner     4\n",
       "173       31.85  3.18    Male    Yes   Sun  Dinner     2\n",
       "21        20.29  2.75  Female     No   Sat  Dinner     2\n",
       "106       20.49  4.06    Male    Yes   Sat  Dinner     2\n",
       "160       21.50  3.50    Male     No   Sun  Dinner     4\n",
       "70        12.02  1.97    Male     No   Sat  Dinner     2\n",
       "234       15.53  3.00    Male    Yes   Sat  Dinner     2\n",
       "191       19.81  4.19  Female    Yes  Thur   Lunch     2\n",
       "64        17.59  2.64    Male     No   Sat  Dinner     3\n",
       "61        13.81  2.00    Male    Yes   Sat  Dinner     2"
      ]
     },
     "execution_count": 3,
     "metadata": {},
     "output_type": "execute_result"
    }
   ],
   "source": [
    "df.sample(15)   #To take random 15 samples"
   ]
  },
  {
   "cell_type": "code",
   "execution_count": 4,
   "metadata": {},
   "outputs": [
    {
     "data": {
      "text/plain": [
       "['Sun', 'Sat', 'Thur', 'Fri']\n",
       "Categories (4, object): ['Thur', 'Fri', 'Sat', 'Sun']"
      ]
     },
     "execution_count": 4,
     "metadata": {},
     "output_type": "execute_result"
    }
   ],
   "source": [
    "# to check niqueness\n",
    "df[\"day\"].unique()"
   ]
  },
  {
   "cell_type": "code",
   "execution_count": 5,
   "metadata": {},
   "outputs": [
    {
     "data": {
      "text/plain": [
       "<AxesSubplot:xlabel='day', ylabel='tip'>"
      ]
     },
     "execution_count": 5,
     "metadata": {},
     "output_type": "execute_result"
    },
    {
     "data": {
      "image/png": "[encoded data removed]",
      "text/plain": [
       "<Figure size 432x288 with 1 Axes>"
      ]
     },
     "metadata": {
      "needs_background": "light"
     },
     "output_type": "display_data"
    }
   ],
   "source": [
    "#boxplot\n",
    "sns.boxplot(x=\"day\",y=\"tip\",data=df)"
   ]
  },
  {
   "cell_type": "code",
   "execution_count": 6,
   "metadata": {},
   "outputs": [
    {
     "name": "stdout",
     "output_type": "stream",
     "text": [
      "             df      sum_sq   mean_sq         F    PR(>F)\n",
      "day         3.0    9.525873  3.175291  1.672355  0.173589\n",
      "Residual  240.0  455.686604  1.898694       NaN       NaN\n"
     ]
    }
   ],
   "source": [
    "# As we have one factor variable(species) with 3 groups and one target variable\n",
    "# so 1-way ANOVA is the right option to choose\n",
    "import statsmodels.api as sm\n",
    "from statsmodels.formula.api import ols\n",
    "\n",
    "#fitting model\n",
    "model=ols(\"tip ~ day\", data=df).fit()\n",
    "\n",
    "#Applying Anova\n",
    "anov_table=sm.stats.anova_lm(model,type=2)\n",
    "print(anov_table)"
   ]
  },
  {
   "cell_type": "markdown",
   "metadata": {},
   "source": [
    "# Assignment\n",
    "# Type\n",
    "When data is unbalanced, there are different ways to calculate the sums of squares for ANOVA.\n",
    "\n",
    "There are at least 3 approaches, commonly called Type I, II and III sums of squares.\n",
    "\n",
    "> 1.Type I, also called “sequential” sum of squares\n",
    "> \n",
    "> 2.Type II,This type tests for each main effect after the other main effect.Note that no significant interaction is assumed.\n",
    "> \n",
    "> 3.Type III,This type tests for the presence of a main effect after the other main effect and interaction. This approach is \n",
    "> \n",
    "> therefore valid in the presence of significant interactions."
   ]
  },
  {
   "cell_type": "code",
   "execution_count": 7,
   "metadata": {},
   "outputs": [
    {
     "data": {
      "text/html": [
       "<div>\n",
       "<style scoped>\n",
       "    .dataframe tbody tr th:only-of-type {\n",
       "        vertical-align: middle;\n",
       "    }\n",
       "\n",
       "    .dataframe tbody tr th {\n",
       "        vertical-align: top;\n",
       "    }\n",
       "\n",
       "    .dataframe thead th {\n",
       "        text-align: right;\n",
       "    }\n",
       "</style>\n",
       "<table border=\"1\" class=\"dataframe\">\n",
       "  <thead>\n",
       "    <tr style=\"text-align: right;\">\n",
       "      <th></th>\n",
       "      <th>coef</th>\n",
       "      <th>std err</th>\n",
       "      <th>t</th>\n",
       "      <th>P&gt;|t|</th>\n",
       "      <th>Conf. Int. Low</th>\n",
       "      <th>Conf. Int. Upp.</th>\n",
       "      <th>pvalue-bonferroni</th>\n",
       "      <th>reject-bonferroni</th>\n",
       "    </tr>\n",
       "  </thead>\n",
       "  <tbody>\n",
       "    <tr>\n",
       "      <th>Fri-Thur</th>\n",
       "      <td>-0.036715</td>\n",
       "      <td>0.361324</td>\n",
       "      <td>-0.101612</td>\n",
       "      <td>0.919150</td>\n",
       "      <td>-0.748487</td>\n",
       "      <td>0.675057</td>\n",
       "      <td>1.000000</td>\n",
       "      <td>False</td>\n",
       "    </tr>\n",
       "    <tr>\n",
       "      <th>Sat-Thur</th>\n",
       "      <td>0.221652</td>\n",
       "      <td>0.229016</td>\n",
       "      <td>0.967846</td>\n",
       "      <td>0.334096</td>\n",
       "      <td>-0.229486</td>\n",
       "      <td>0.672789</td>\n",
       "      <td>1.000000</td>\n",
       "      <td>False</td>\n",
       "    </tr>\n",
       "    <tr>\n",
       "      <th>Sun-Thur</th>\n",
       "      <td>0.483680</td>\n",
       "      <td>0.235811</td>\n",
       "      <td>2.051132</td>\n",
       "      <td>0.041340</td>\n",
       "      <td>0.019156</td>\n",
       "      <td>0.948204</td>\n",
       "      <td>0.248039</td>\n",
       "      <td>False</td>\n",
       "    </tr>\n",
       "    <tr>\n",
       "      <th>Sat-Fri</th>\n",
       "      <td>0.258367</td>\n",
       "      <td>0.348935</td>\n",
       "      <td>0.740444</td>\n",
       "      <td>0.459754</td>\n",
       "      <td>-0.428999</td>\n",
       "      <td>0.945732</td>\n",
       "      <td>1.000000</td>\n",
       "      <td>False</td>\n",
       "    </tr>\n",
       "    <tr>\n",
       "      <th>Sun-Fri</th>\n",
       "      <td>0.520395</td>\n",
       "      <td>0.353432</td>\n",
       "      <td>1.472405</td>\n",
       "      <td>0.142222</td>\n",
       "      <td>-0.175830</td>\n",
       "      <td>1.216619</td>\n",
       "      <td>0.853331</td>\n",
       "      <td>False</td>\n",
       "    </tr>\n",
       "    <tr>\n",
       "      <th>Sun-Sat</th>\n",
       "      <td>0.262028</td>\n",
       "      <td>0.216349</td>\n",
       "      <td>1.211136</td>\n",
       "      <td>0.227034</td>\n",
       "      <td>-0.164157</td>\n",
       "      <td>0.688214</td>\n",
       "      <td>1.000000</td>\n",
       "      <td>False</td>\n",
       "    </tr>\n",
       "  </tbody>\n",
       "</table>\n",
       "</div>"
      ],
      "text/plain": [
       "              coef   std err         t     P>|t|  Conf. Int. Low  \\\n",
       "Fri-Thur -0.036715  0.361324 -0.101612  0.919150       -0.748487   \n",
       "Sat-Thur  0.221652  0.229016  0.967846  0.334096       -0.229486   \n",
       "Sun-Thur  0.483680  0.235811  2.051132  0.041340        0.019156   \n",
       "Sat-Fri   0.258367  0.348935  0.740444  0.459754       -0.428999   \n",
       "Sun-Fri   0.520395  0.353432  1.472405  0.142222       -0.175830   \n",
       "Sun-Sat   0.262028  0.216349  1.211136  0.227034       -0.164157   \n",
       "\n",
       "          Conf. Int. Upp.  pvalue-bonferroni  reject-bonferroni  \n",
       "Fri-Thur         0.675057           1.000000              False  \n",
       "Sat-Thur         0.672789           1.000000              False  \n",
       "Sun-Thur         0.948204           0.248039              False  \n",
       "Sat-Fri          0.945732           1.000000              False  \n",
       "Sun-Fri          1.216619           0.853331              False  \n",
       "Sun-Sat          0.688214           1.000000              False  "
      ]
     },
     "execution_count": 7,
     "metadata": {},
     "output_type": "execute_result"
    }
   ],
   "source": [
    "# pairwise comparison e.d here b/w 2 species\n",
    "\n",
    "paired_ttest=model.t_test_pairwise(\"day\", method=\"bonferroni\")\n",
    "paired_ttest.result_frame"
   ]
  },
  {
   "cell_type": "markdown",
   "metadata": {},
   "source": [
    "# Assignment "
   ]
  },
  {
   "cell_type": "code",
   "execution_count": 21,
   "metadata": {},
   "outputs": [
    {
     "data": {
      "text/html": [
       "<div>\n",
       "<style scoped>\n",
       "    .dataframe tbody tr th:only-of-type {\n",
       "        vertical-align: middle;\n",
       "    }\n",
       "\n",
       "    .dataframe tbody tr th {\n",
       "        vertical-align: top;\n",
       "    }\n",
       "\n",
       "    .dataframe thead th {\n",
       "        text-align: right;\n",
       "    }\n",
       "</style>\n",
       "<table border=\"1\" class=\"dataframe\">\n",
       "  <thead>\n",
       "    <tr style=\"text-align: right;\">\n",
       "      <th></th>\n",
       "      <th>coef</th>\n",
       "      <th>std err</th>\n",
       "      <th>t</th>\n",
       "      <th>P&gt;|t|</th>\n",
       "      <th>Conf. Int. Low</th>\n",
       "      <th>Conf. Int. Upp.</th>\n",
       "      <th>pvalue-sidak</th>\n",
       "      <th>reject-sidak</th>\n",
       "    </tr>\n",
       "  </thead>\n",
       "  <tbody>\n",
       "    <tr>\n",
       "      <th>Fri-Thur</th>\n",
       "      <td>-0.036715</td>\n",
       "      <td>0.361324</td>\n",
       "      <td>-0.101612</td>\n",
       "      <td>0.919150</td>\n",
       "      <td>-0.748487</td>\n",
       "      <td>0.675057</td>\n",
       "      <td>1.000000</td>\n",
       "      <td>False</td>\n",
       "    </tr>\n",
       "    <tr>\n",
       "      <th>Sat-Thur</th>\n",
       "      <td>0.221652</td>\n",
       "      <td>0.229016</td>\n",
       "      <td>0.967846</td>\n",
       "      <td>0.334096</td>\n",
       "      <td>-0.229486</td>\n",
       "      <td>0.672789</td>\n",
       "      <td>0.912809</td>\n",
       "      <td>False</td>\n",
       "    </tr>\n",
       "    <tr>\n",
       "      <th>Sun-Thur</th>\n",
       "      <td>0.483680</td>\n",
       "      <td>0.235811</td>\n",
       "      <td>2.051132</td>\n",
       "      <td>0.041340</td>\n",
       "      <td>0.019156</td>\n",
       "      <td>0.948204</td>\n",
       "      <td>0.223775</td>\n",
       "      <td>False</td>\n",
       "    </tr>\n",
       "    <tr>\n",
       "      <th>Sat-Fri</th>\n",
       "      <td>0.258367</td>\n",
       "      <td>0.348935</td>\n",
       "      <td>0.740444</td>\n",
       "      <td>0.459754</td>\n",
       "      <td>-0.428999</td>\n",
       "      <td>0.945732</td>\n",
       "      <td>0.975137</td>\n",
       "      <td>False</td>\n",
       "    </tr>\n",
       "    <tr>\n",
       "      <th>Sun-Fri</th>\n",
       "      <td>0.520395</td>\n",
       "      <td>0.353432</td>\n",
       "      <td>1.472405</td>\n",
       "      <td>0.142222</td>\n",
       "      <td>-0.175830</td>\n",
       "      <td>1.216619</td>\n",
       "      <td>0.601664</td>\n",
       "      <td>False</td>\n",
       "    </tr>\n",
       "    <tr>\n",
       "      <th>Sun-Sat</th>\n",
       "      <td>0.262028</td>\n",
       "      <td>0.216349</td>\n",
       "      <td>1.211136</td>\n",
       "      <td>0.227034</td>\n",
       "      <td>-0.164157</td>\n",
       "      <td>0.688214</td>\n",
       "      <td>0.786715</td>\n",
       "      <td>False</td>\n",
       "    </tr>\n",
       "  </tbody>\n",
       "</table>\n",
       "</div>"
      ],
      "text/plain": [
       "              coef   std err         t     P>|t|  Conf. Int. Low  \\\n",
       "Fri-Thur -0.036715  0.361324 -0.101612  0.919150       -0.748487   \n",
       "Sat-Thur  0.221652  0.229016  0.967846  0.334096       -0.229486   \n",
       "Sun-Thur  0.483680  0.235811  2.051132  0.041340        0.019156   \n",
       "Sat-Fri   0.258367  0.348935  0.740444  0.459754       -0.428999   \n",
       "Sun-Fri   0.520395  0.353432  1.472405  0.142222       -0.175830   \n",
       "Sun-Sat   0.262028  0.216349  1.211136  0.227034       -0.164157   \n",
       "\n",
       "          Conf. Int. Upp.  pvalue-sidak  reject-sidak  \n",
       "Fri-Thur         0.675057      1.000000         False  \n",
       "Sat-Thur         0.672789      0.912809         False  \n",
       "Sun-Thur         0.948204      0.223775         False  \n",
       "Sat-Fri          0.945732      0.975137         False  \n",
       "Sun-Fri          1.216619      0.601664         False  \n",
       "Sun-Sat          0.688214      0.786715         False  "
      ]
     },
     "execution_count": 21,
     "metadata": {},
     "output_type": "execute_result"
    }
   ],
   "source": [
    "# sidak\n",
    "paired_ttest=model.t_test_pairwise(\"day\", method=\"sidak\")\n",
    "paired_ttest.result_frame"
   ]
  },
  {
   "cell_type": "code",
   "execution_count": 8,
   "metadata": {},
   "outputs": [
    {
     "name": "stdout",
     "output_type": "stream",
     "text": [
      "   Source          SS   DF        MS         F     p-unc       np2\n",
      "0     day    9.525873    3  3.175291  1.672355  0.173589  0.020476\n",
      "1  Within  455.686604  240  1.898694       NaN       NaN       NaN\n"
     ]
    }
   ],
   "source": [
    "# tukey hsd test\n",
    "import pingouin as pg\n",
    "\n",
    "anov_table1=pg.anova(data=df, dv=\"tip\",between=\"day\",detailed=True)\n",
    "print(anov_table1)"
   ]
  },
  {
   "cell_type": "code",
   "execution_count": 9,
   "metadata": {},
   "outputs": [
    {
     "name": "stdout",
     "output_type": "stream",
     "text": [
      "      A     B   mean(A)   mean(B)      diff        se         T   p-tukey  \\\n",
      "0   Sun   Sat  3.255132  2.993103  0.262028  0.216349  1.211136  0.620382   \n",
      "1   Sun  Thur  3.255132  2.771452  0.483680  0.235811  2.051132  0.172421   \n",
      "2   Sun   Fri  3.255132  2.734737  0.520395  0.353432  1.472405  0.455805   \n",
      "3   Sat  Thur  2.993103  2.771452  0.221652  0.229016  0.967846  0.767858   \n",
      "4   Sat   Fri  2.993103  2.734737  0.258367  0.348935  0.740444  0.880645   \n",
      "5  Thur   Fri  2.771452  2.734737  0.036715  0.361324  0.101612  0.999623   \n",
      "\n",
      "     hedges  \n",
      "0  0.189273  \n",
      "1  0.349080  \n",
      "2  0.374610  \n",
      "3  0.160036  \n",
      "4  0.186148  \n",
      "5  0.026391  \n"
     ]
    }
   ],
   "source": [
    "# Tukey test pairwise\n",
    "pt=pg.pairwise_tukey(data=df, dv=\"tip\",between=\"day\")\n",
    "print(pt)\n"
   ]
  },
  {
   "cell_type": "markdown",
   "metadata": {},
   "source": [
    "# Tukey test visualization in boxplot"
   ]
  },
  {
   "cell_type": "code",
   "execution_count": 15,
   "metadata": {},
   "outputs": [
    {
     "name": "stdout",
     "output_type": "stream",
     "text": [
      "Collecting statannot\n",
      "  Downloading statannot-0.2.3-py3-none-any.whl (10 kB)\n",
      "Installing collected packages: statannot\n",
      "Successfully installed statannot-0.2.3\n",
      "Note: you may need to restart the kernel to use updated packages.\n"
     ]
    }
   ],
   "source": [
    "pip install statannot"
   ]
  },
  {
   "cell_type": "code",
   "execution_count": 17,
   "metadata": {},
   "outputs": [],
   "source": [
    "from statannot import add_stat_annotation"
   ]
  },
  {
   "cell_type": "code",
   "execution_count": 25,
   "metadata": {},
   "outputs": [
    {
     "name": "stdout",
     "output_type": "stream",
     "text": [
      "p-value annotation legend:\n",
      "ns: 5.00e-02 < p <= 1.00e+00\n",
      "*: 1.00e-02 < p <= 5.00e-02\n",
      "**: 1.00e-03 < p <= 1.00e-02\n",
      "***: 1.00e-04 < p <= 1.00e-03\n",
      "****: p <= 1.00e-04\n",
      "\n",
      "Thur v.s. Fri: Mann-Whitney-Wilcoxon test two-sided with Bonferroni correction, P_val=1.000e+00 U_stat=6.305e+02\n",
      "Thur v.s. Sat: Mann-Whitney-Wilcoxon test two-sided with Bonferroni correction, P_val=1.407e-01 U_stat=2.180e+03\n",
      "Sun v.s. Fri: Mann-Whitney-Wilcoxon test two-sided with Bonferroni correction, P_val=8.041e-02 U_stat=9.605e+02\n"
     ]
    },
    {
     "data": {
      "text/plain": [
       "(<AxesSubplot:xlabel='day', ylabel='total_bill'>,\n",
       " [<statannot.StatResult.StatResult at 0x1c79bfaafe0>,\n",
       "  <statannot.StatResult.StatResult at 0x1c79c0ccd90>,\n",
       "  <statannot.StatResult.StatResult at 0x1c79c0a5fc0>])"
      ]
     },
     "execution_count": 25,
     "metadata": {},
     "output_type": "execute_result"
    },
    {
     "data": {
      "image/png": "[encoded data removed]",
      "text/plain": [
       "<Figure size 432x288 with 1 Axes>"
      ]
     },
     "metadata": {},
     "output_type": "display_data"
    }
   ],
   "source": [
    "import matplotlib.pyplot as plt\n",
    "import seaborn as sns\n",
    "from statannot import add_stat_annotation\n",
    "\n",
    "sns.set(style=\"whitegrid\")\n",
    "df = sns.load_dataset(\"tips\")\n",
    "\n",
    "x = \"day\"\n",
    "y = \"total_bill\"\n",
    "order = ['Sun', 'Thur', 'Fri', 'Sat']\n",
    "ax = sns.boxplot(data=df, x=x, y=y, order=order)\n",
    "add_stat_annotation(ax, data=df, x=x, y=y, order=order,\n",
    "                    box_pairs=[(\"Thur\", \"Fri\"), (\"Thur\", \"Sat\"), (\"Fri\", \"Sun\")],\n",
    "                    test='Mann-Whitney', text_format='star', loc='outside', verbose=2)"
   ]
  },
  {
   "cell_type": "markdown",
   "metadata": {},
   "source": [
    "# Test to visualize this way\n",
    "* t-test_ind\n",
    "* t-test_welch\n",
    "* t-test_paired\n",
    "* Mann-Whitney\n",
    "* Mann-Whitney-gt\n",
    "* Mann-Whitney-ls\n",
    "* Levene,\n",
    "* Wilcoxon\n",
    "* Kruskal\n"
   ]
  },
  {
   "cell_type": "markdown",
   "metadata": {},
   "source": [
    "## Still finding to visualize Tukey hsd test in boxplot in Python"
   ]
  }
 ],
 "metadata": {
  "interpreter": {
   "hash": "80f0110f7c3cd486b9440f1bec1e1bdcec7b5440deadf4b7939e76817772aea9"
  },
  "kernelspec": {
   "display_name": "Python 3.10.3 64-bit",
   "language": "python",
   "name": "python3"
  },
  "language_info": {
   "codemirror_mode": {
    "name": "ipython",
    "version": 3
   },
   "file_extension": ".py",
   "mimetype": "text/x-python",
   "name": "python",
   "nbconvert_exporter": "python",
   "pygments_lexer": "ipython3",
   "version": "3.10.3"
  },
  "orig_nbformat": 4
 },
 "nbformat": 4,
 "nbformat_minor": 2
}
