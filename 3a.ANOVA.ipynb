{
 "cells": [
  {
   "cell_type": "code",
   "execution_count": 9,
   "metadata": {},
   "outputs": [],
   "source": [
    "#Importing libraries\n",
    "import seaborn as sns\n",
    "import pandas as pd\n",
    "import numpy as np\n",
    "import scipy.stats\n",
    "import matplotlib.pyplot as plt"
   ]
  },
  {
   "cell_type": "code",
   "execution_count": 2,
   "metadata": {},
   "outputs": [],
   "source": [
    "# ANOVA(Two way)\n",
    "#create data\n",
    "df = pd.DataFrame({'water': np.repeat(['daily', 'weekly'], 15),\n",
    "                   'sun': np.tile(np.repeat(['low', 'med', 'high'], 5), 2),\n",
    "                   'height': [6, 6, 6, 5, 6, 5, 5, 6, 4, 5,\n",
    "                              6, 6, 7, 8, 7, 3, 4, 4, 4, 5,\n",
    "                              4, 4, 4, 4, 4, 5, 6, 6, 7, 8]})\n",
    "\n",
    "                              \n",
    "#view first ten rows of data "
   ]
  },
  {
   "cell_type": "code",
   "execution_count": 3,
   "metadata": {},
   "outputs": [
    {
     "data": {
      "text/html": [
       "<div>\n",
       "<style scoped>\n",
       "    .dataframe tbody tr th:only-of-type {\n",
       "        vertical-align: middle;\n",
       "    }\n",
       "\n",
       "    .dataframe tbody tr th {\n",
       "        vertical-align: top;\n",
       "    }\n",
       "\n",
       "    .dataframe thead th {\n",
       "        text-align: right;\n",
       "    }\n",
       "</style>\n",
       "<table border=\"1\" class=\"dataframe\">\n",
       "  <thead>\n",
       "    <tr style=\"text-align: right;\">\n",
       "      <th></th>\n",
       "      <th>water</th>\n",
       "      <th>sun</th>\n",
       "      <th>height</th>\n",
       "    </tr>\n",
       "  </thead>\n",
       "  <tbody>\n",
       "    <tr>\n",
       "      <th>0</th>\n",
       "      <td>daily</td>\n",
       "      <td>low</td>\n",
       "      <td>6</td>\n",
       "    </tr>\n",
       "    <tr>\n",
       "      <th>1</th>\n",
       "      <td>daily</td>\n",
       "      <td>low</td>\n",
       "      <td>6</td>\n",
       "    </tr>\n",
       "    <tr>\n",
       "      <th>2</th>\n",
       "      <td>daily</td>\n",
       "      <td>low</td>\n",
       "      <td>6</td>\n",
       "    </tr>\n",
       "    <tr>\n",
       "      <th>3</th>\n",
       "      <td>daily</td>\n",
       "      <td>low</td>\n",
       "      <td>5</td>\n",
       "    </tr>\n",
       "    <tr>\n",
       "      <th>4</th>\n",
       "      <td>daily</td>\n",
       "      <td>low</td>\n",
       "      <td>6</td>\n",
       "    </tr>\n",
       "  </tbody>\n",
       "</table>\n",
       "</div>"
      ],
      "text/plain": [
       "   water  sun  height\n",
       "0  daily  low       6\n",
       "1  daily  low       6\n",
       "2  daily  low       6\n",
       "3  daily  low       5\n",
       "4  daily  low       6"
      ]
     },
     "execution_count": 3,
     "metadata": {},
     "output_type": "execute_result"
    }
   ],
   "source": [
    "df.head()"
   ]
  },
  {
   "cell_type": "code",
   "execution_count": 4,
   "metadata": {},
   "outputs": [
    {
     "data": {
      "text/plain": [
       "<AxesSubplot:xlabel='sun', ylabel='height'>"
      ]
     },
     "execution_count": 4,
     "metadata": {},
     "output_type": "execute_result"
    },
    {
     "data": {
      "image/png": "[encoded data removed]",
      "text/plain": [
       "<Figure size 432x288 with 1 Axes>"
      ]
     },
     "metadata": {
      "needs_background": "light"
     },
     "output_type": "display_data"
    }
   ],
   "source": [
    "#boxplot\n",
    "sns.boxplot(x=\"sun\",y=\"height\",data=df)"
   ]
  },
  {
   "cell_type": "code",
   "execution_count": 5,
   "metadata": {},
   "outputs": [
    {
     "data": {
      "text/plain": [
       "<AxesSubplot:xlabel='sun', ylabel='height'>"
      ]
     },
     "execution_count": 5,
     "metadata": {},
     "output_type": "execute_result"
    },
    {
     "data": {
      "image/png": "[encoded data removed]",
      "text/plain": [
       "<Figure size 432x288 with 1 Axes>"
      ]
     },
     "metadata": {
      "needs_background": "light"
     },
     "output_type": "display_data"
    }
   ],
   "source": [
    "#boxplot\n",
    "sns.boxplot(x=\"sun\",y=\"height\",data=df, hue=\"water\")"
   ]
  },
  {
   "cell_type": "code",
   "execution_count": 6,
   "metadata": {},
   "outputs": [
    {
     "data": {
      "text/html": [
       "<div>\n",
       "<style scoped>\n",
       "    .dataframe tbody tr th:only-of-type {\n",
       "        vertical-align: middle;\n",
       "    }\n",
       "\n",
       "    .dataframe tbody tr th {\n",
       "        vertical-align: top;\n",
       "    }\n",
       "\n",
       "    .dataframe thead th {\n",
       "        text-align: right;\n",
       "    }\n",
       "</style>\n",
       "<table border=\"1\" class=\"dataframe\">\n",
       "  <thead>\n",
       "    <tr style=\"text-align: right;\">\n",
       "      <th></th>\n",
       "      <th>sum_sq</th>\n",
       "      <th>df</th>\n",
       "      <th>F</th>\n",
       "      <th>PR(&gt;F)</th>\n",
       "    </tr>\n",
       "  </thead>\n",
       "  <tbody>\n",
       "    <tr>\n",
       "      <th>C(water)</th>\n",
       "      <td>8.533333</td>\n",
       "      <td>1.0</td>\n",
       "      <td>16.0000</td>\n",
       "      <td>0.000527</td>\n",
       "    </tr>\n",
       "    <tr>\n",
       "      <th>C(sun)</th>\n",
       "      <td>24.866667</td>\n",
       "      <td>2.0</td>\n",
       "      <td>23.3125</td>\n",
       "      <td>0.000002</td>\n",
       "    </tr>\n",
       "    <tr>\n",
       "      <th>C(water):C(sun)</th>\n",
       "      <td>2.466667</td>\n",
       "      <td>2.0</td>\n",
       "      <td>2.3125</td>\n",
       "      <td>0.120667</td>\n",
       "    </tr>\n",
       "    <tr>\n",
       "      <th>Residual</th>\n",
       "      <td>12.800000</td>\n",
       "      <td>24.0</td>\n",
       "      <td>NaN</td>\n",
       "      <td>NaN</td>\n",
       "    </tr>\n",
       "  </tbody>\n",
       "</table>\n",
       "</div>"
      ],
      "text/plain": [
       "                    sum_sq    df        F    PR(>F)\n",
       "C(water)          8.533333   1.0  16.0000  0.000527\n",
       "C(sun)           24.866667   2.0  23.3125  0.000002\n",
       "C(water):C(sun)   2.466667   2.0   2.3125  0.120667\n",
       "Residual         12.800000  24.0      NaN       NaN"
      ]
     },
     "execution_count": 6,
     "metadata": {},
     "output_type": "execute_result"
    }
   ],
   "source": [
    "# As we have 2 factor variables one target variable\n",
    "# so 2-way ANOVA is the right option to choose\n",
    "import statsmodels.api as sm\n",
    "from statsmodels.formula.api import ols\n",
    "\n",
    "#perform two-way ANOVA\n",
    "model = ols('height ~ C(water) + C(sun) + C(water):C(sun)', data=df).fit()\n",
    "sm.stats.anova_lm(model, typ=2)"
   ]
  },
  {
   "cell_type": "code",
   "execution_count": 7,
   "metadata": {},
   "outputs": [
    {
     "name": "stdout",
     "output_type": "stream",
     "text": [
      "        Source         SS  DF         MS        F     p-unc       np2\n",
      "0          sun  24.866667   2  12.433333  23.3125  0.000002  0.660177\n",
      "1        water   8.533333   1   8.533333  16.0000  0.000527  0.400000\n",
      "2  sun * water   2.466667   2   1.233333   2.3125  0.120667  0.161572\n",
      "3     Residual  12.800000  24   0.533333      NaN       NaN       NaN\n"
     ]
    }
   ],
   "source": [
    "#Another way of applying 2way anova\n",
    "import pingouin as pg\n",
    "anov_table1=pg.anova(data=df, dv=\"height\",between=[\"sun\",\"water\"],detailed=True)\n",
    "print(anov_table1)"
   ]
  },
  {
   "cell_type": "code",
   "execution_count": null,
   "metadata": {},
   "outputs": [],
   "source": [
    "#Tukey test kaise lagana hai 2 way annova pr\n",
    "#Lettering and grouping kese krni hai\n",
    "#Annotation kaise krni h groups mn"
   ]
  },
  {
   "cell_type": "code",
   "execution_count": 10,
   "metadata": {},
   "outputs": [
    {
     "data": {
      "image/png": "[encoded data removed]",
      "text/plain": [
       "<Figure size 432x288 with 1 Axes>"
      ]
     },
     "metadata": {
      "needs_background": "light"
     },
     "output_type": "display_data"
    }
   ],
   "source": [
    "#qq norm plot\n",
    "res=model.resid\n",
    "fig=sm.qqplot(res, line=\"s\")\n",
    "plt.show()"
   ]
  },
  {
   "cell_type": "code",
   "execution_count": 14,
   "metadata": {},
   "outputs": [
    {
     "name": "stdout",
     "output_type": "stream",
     "text": [
      "      A    B  mean(A)  mean(B)  diff        se         T   p-tukey    hedges\n",
      "0  high  low      6.6      4.9   1.7  0.419877  4.048809  0.001098  1.734175\n",
      "1  high  med      6.6      4.5   2.1  0.419877  5.001470  0.000088  2.142216\n",
      "2   low  med      4.9      4.5   0.4  0.419877  0.952661  0.612400  0.408041\n"
     ]
    }
   ],
   "source": [
    "# Tukey test pairwise\n",
    "pt=pg.pairwise_tukey(data=df, dv=\"height\",between=[\"sun\"])\n",
    "print(pt)"
   ]
  },
  {
   "cell_type": "markdown",
   "metadata": {},
   "source": [
    "# Post-hoc testing\n",
    "ANOVA will tell you which parameters are significant, but not which levels are actually different from one another. To test this we can use a post-hoc test. The Tukey's Honestly-Significant-Difference (TukeyHSD) test lets us see which groups are different from one another."
   ]
  },
  {
   "cell_type": "code",
   "execution_count": 18,
   "metadata": {},
   "outputs": [
    {
     "data": {
      "text/html": [
       "<table class=\"simpletable\">\n",
       "<caption>Multiple Comparison of Means - Tukey HSD, FWER=0.05</caption>\n",
       "<tr>\n",
       "  <th>group1</th> <th>group2</th> <th>meandiff</th>  <th>p-adj</th>  <th>lower</th>  <th>upper</th> <th>reject</th>\n",
       "</tr>\n",
       "<tr>\n",
       "   <td>high</td>    <td>low</td>    <td>-1.7</td>   <td>0.0011</td> <td>-2.741</td> <td>-0.659</td>  <td>True</td> \n",
       "</tr>\n",
       "<tr>\n",
       "   <td>high</td>    <td>med</td>    <td>-2.1</td>   <td>0.0001</td> <td>-3.141</td> <td>-1.059</td>  <td>True</td> \n",
       "</tr>\n",
       "<tr>\n",
       "    <td>low</td>    <td>med</td>    <td>-0.4</td>   <td>0.6124</td> <td>-1.441</td>  <td>0.641</td>  <td>False</td>\n",
       "</tr>\n",
       "</table>"
      ],
      "text/plain": [
       "<class 'statsmodels.iolib.table.SimpleTable'>"
      ]
     },
     "execution_count": 18,
     "metadata": {},
     "output_type": "execute_result"
    }
   ],
   "source": [
    "from statsmodels.stats.multicomp import pairwise_tukeyhsd\n",
    "from statsmodels.stats.multicomp import MultiComparison\n",
    "mc=MultiComparison(df[\"height\"], df[\"sun\"])\n",
    "mcresult=mc.tukeyhsd(0.05)\n",
    "mcresult.summary()"
   ]
  },
  {
   "cell_type": "code",
   "execution_count": 24,
   "metadata": {},
   "outputs": [
    {
     "name": "stderr",
     "output_type": "stream",
     "text": [
      "C:\\Users\\mohsin.DESKTOP-7I5HD4K\\AppData\\Local\\Programs\\Python\\Python310\\lib\\site-packages\\bioinfokit\\analys.py:369: FutureWarning: Dropping of nuisance columns in DataFrame reductions (with 'numeric_only=None') is deprecated; in a future version this will raise TypeError.  Select only valid columns before calling the reduction.\n",
      "  (df[xfac_var[1]] == ele2)].mean().loc[res_var]\n"
     ]
    },
    {
     "data": {
      "text/html": [
       "<div>\n",
       "<style scoped>\n",
       "    .dataframe tbody tr th:only-of-type {\n",
       "        vertical-align: middle;\n",
       "    }\n",
       "\n",
       "    .dataframe tbody tr th {\n",
       "        vertical-align: top;\n",
       "    }\n",
       "\n",
       "    .dataframe thead th {\n",
       "        text-align: right;\n",
       "    }\n",
       "</style>\n",
       "<table border=\"1\" class=\"dataframe\">\n",
       "  <thead>\n",
       "    <tr style=\"text-align: right;\">\n",
       "      <th></th>\n",
       "      <th>group1</th>\n",
       "      <th>group2</th>\n",
       "      <th>Diff</th>\n",
       "      <th>Lower</th>\n",
       "      <th>Upper</th>\n",
       "      <th>q-value</th>\n",
       "      <th>p-value</th>\n",
       "    </tr>\n",
       "  </thead>\n",
       "  <tbody>\n",
       "    <tr>\n",
       "      <th>0</th>\n",
       "      <td>(low, daily)</td>\n",
       "      <td>(low, weekly)</td>\n",
       "      <td>1.8</td>\n",
       "      <td>0.371833</td>\n",
       "      <td>3.228167</td>\n",
       "      <td>5.511352</td>\n",
       "      <td>0.007933</td>\n",
       "    </tr>\n",
       "    <tr>\n",
       "      <th>1</th>\n",
       "      <td>(low, daily)</td>\n",
       "      <td>(med, daily)</td>\n",
       "      <td>0.8</td>\n",
       "      <td>-0.628167</td>\n",
       "      <td>2.228167</td>\n",
       "      <td>2.449490</td>\n",
       "      <td>0.522189</td>\n",
       "    </tr>\n",
       "    <tr>\n",
       "      <th>2</th>\n",
       "      <td>(low, daily)</td>\n",
       "      <td>(med, weekly)</td>\n",
       "      <td>1.8</td>\n",
       "      <td>0.371833</td>\n",
       "      <td>3.228167</td>\n",
       "      <td>5.511352</td>\n",
       "      <td>0.007933</td>\n",
       "    </tr>\n",
       "    <tr>\n",
       "      <th>3</th>\n",
       "      <td>(low, daily)</td>\n",
       "      <td>(high, daily)</td>\n",
       "      <td>1.0</td>\n",
       "      <td>-0.428167</td>\n",
       "      <td>2.428167</td>\n",
       "      <td>3.061862</td>\n",
       "      <td>0.289956</td>\n",
       "    </tr>\n",
       "    <tr>\n",
       "      <th>4</th>\n",
       "      <td>(low, daily)</td>\n",
       "      <td>(high, weekly)</td>\n",
       "      <td>0.6</td>\n",
       "      <td>-0.828167</td>\n",
       "      <td>2.028167</td>\n",
       "      <td>1.837117</td>\n",
       "      <td>0.757578</td>\n",
       "    </tr>\n",
       "    <tr>\n",
       "      <th>5</th>\n",
       "      <td>(low, weekly)</td>\n",
       "      <td>(med, daily)</td>\n",
       "      <td>1.0</td>\n",
       "      <td>-0.428167</td>\n",
       "      <td>2.428167</td>\n",
       "      <td>3.061862</td>\n",
       "      <td>0.289956</td>\n",
       "    </tr>\n",
       "    <tr>\n",
       "      <th>6</th>\n",
       "      <td>(low, weekly)</td>\n",
       "      <td>(med, weekly)</td>\n",
       "      <td>0.0</td>\n",
       "      <td>-1.428167</td>\n",
       "      <td>1.428167</td>\n",
       "      <td>0.000000</td>\n",
       "      <td>0.900000</td>\n",
       "    </tr>\n",
       "    <tr>\n",
       "      <th>7</th>\n",
       "      <td>(low, weekly)</td>\n",
       "      <td>(high, daily)</td>\n",
       "      <td>2.8</td>\n",
       "      <td>1.371833</td>\n",
       "      <td>4.228167</td>\n",
       "      <td>8.573214</td>\n",
       "      <td>0.001000</td>\n",
       "    </tr>\n",
       "    <tr>\n",
       "      <th>8</th>\n",
       "      <td>(low, weekly)</td>\n",
       "      <td>(high, weekly)</td>\n",
       "      <td>2.4</td>\n",
       "      <td>0.971833</td>\n",
       "      <td>3.828167</td>\n",
       "      <td>7.348469</td>\n",
       "      <td>0.001000</td>\n",
       "    </tr>\n",
       "    <tr>\n",
       "      <th>9</th>\n",
       "      <td>(med, daily)</td>\n",
       "      <td>(med, weekly)</td>\n",
       "      <td>1.0</td>\n",
       "      <td>-0.428167</td>\n",
       "      <td>2.428167</td>\n",
       "      <td>3.061862</td>\n",
       "      <td>0.289956</td>\n",
       "    </tr>\n",
       "    <tr>\n",
       "      <th>10</th>\n",
       "      <td>(med, daily)</td>\n",
       "      <td>(high, daily)</td>\n",
       "      <td>1.8</td>\n",
       "      <td>0.371833</td>\n",
       "      <td>3.228167</td>\n",
       "      <td>5.511352</td>\n",
       "      <td>0.007933</td>\n",
       "    </tr>\n",
       "    <tr>\n",
       "      <th>11</th>\n",
       "      <td>(med, daily)</td>\n",
       "      <td>(high, weekly)</td>\n",
       "      <td>1.4</td>\n",
       "      <td>-0.028167</td>\n",
       "      <td>2.828167</td>\n",
       "      <td>4.286607</td>\n",
       "      <td>0.057010</td>\n",
       "    </tr>\n",
       "    <tr>\n",
       "      <th>12</th>\n",
       "      <td>(med, weekly)</td>\n",
       "      <td>(high, daily)</td>\n",
       "      <td>2.8</td>\n",
       "      <td>1.371833</td>\n",
       "      <td>4.228167</td>\n",
       "      <td>8.573214</td>\n",
       "      <td>0.001000</td>\n",
       "    </tr>\n",
       "    <tr>\n",
       "      <th>13</th>\n",
       "      <td>(med, weekly)</td>\n",
       "      <td>(high, weekly)</td>\n",
       "      <td>2.4</td>\n",
       "      <td>0.971833</td>\n",
       "      <td>3.828167</td>\n",
       "      <td>7.348469</td>\n",
       "      <td>0.001000</td>\n",
       "    </tr>\n",
       "    <tr>\n",
       "      <th>14</th>\n",
       "      <td>(high, daily)</td>\n",
       "      <td>(high, weekly)</td>\n",
       "      <td>0.4</td>\n",
       "      <td>-1.028167</td>\n",
       "      <td>1.828167</td>\n",
       "      <td>1.224745</td>\n",
       "      <td>0.900000</td>\n",
       "    </tr>\n",
       "  </tbody>\n",
       "</table>\n",
       "</div>"
      ],
      "text/plain": [
       "           group1          group2  Diff     Lower     Upper   q-value  \\\n",
       "0    (low, daily)   (low, weekly)   1.8  0.371833  3.228167  5.511352   \n",
       "1    (low, daily)    (med, daily)   0.8 -0.628167  2.228167  2.449490   \n",
       "2    (low, daily)   (med, weekly)   1.8  0.371833  3.228167  5.511352   \n",
       "3    (low, daily)   (high, daily)   1.0 -0.428167  2.428167  3.061862   \n",
       "4    (low, daily)  (high, weekly)   0.6 -0.828167  2.028167  1.837117   \n",
       "5   (low, weekly)    (med, daily)   1.0 -0.428167  2.428167  3.061862   \n",
       "6   (low, weekly)   (med, weekly)   0.0 -1.428167  1.428167  0.000000   \n",
       "7   (low, weekly)   (high, daily)   2.8  1.371833  4.228167  8.573214   \n",
       "8   (low, weekly)  (high, weekly)   2.4  0.971833  3.828167  7.348469   \n",
       "9    (med, daily)   (med, weekly)   1.0 -0.428167  2.428167  3.061862   \n",
       "10   (med, daily)   (high, daily)   1.8  0.371833  3.228167  5.511352   \n",
       "11   (med, daily)  (high, weekly)   1.4 -0.028167  2.828167  4.286607   \n",
       "12  (med, weekly)   (high, daily)   2.8  1.371833  4.228167  8.573214   \n",
       "13  (med, weekly)  (high, weekly)   2.4  0.971833  3.828167  7.348469   \n",
       "14  (high, daily)  (high, weekly)   0.4 -1.028167  1.828167  1.224745   \n",
       "\n",
       "     p-value  \n",
       "0   0.007933  \n",
       "1   0.522189  \n",
       "2   0.007933  \n",
       "3   0.289956  \n",
       "4   0.757578  \n",
       "5   0.289956  \n",
       "6   0.900000  \n",
       "7   0.001000  \n",
       "8   0.001000  \n",
       "9   0.289956  \n",
       "10  0.007933  \n",
       "11  0.057010  \n",
       "12  0.001000  \n",
       "13  0.001000  \n",
       "14  0.900000  "
      ]
     },
     "execution_count": 24,
     "metadata": {},
     "output_type": "execute_result"
    }
   ],
   "source": [
    "from bioinfokit.analys import stat\n",
    "# perform multiple pairwise comparison (Tukey HSD)\n",
    "# unequal sample size data, tukey_hsd uses Tukey-Kramer test\n",
    "res = stat()\n",
    "# # for main effect Genotype\n",
    "res.tukey_hsd(df=df, res_var='height', xfac_var=['sun','water'], anova_model='height~C(sun)+C(water)+C(sun):C(water)')\n",
    "res.tukey_summary"
   ]
  },
  {
   "cell_type": "code",
   "execution_count": 25,
   "metadata": {},
   "outputs": [
    {
     "data": {
      "image/png": "[encoded data removed]",
      "text/plain": [
       "<Figure size 432x288 with 1 Axes>"
      ]
     },
     "metadata": {
      "needs_background": "light"
     },
     "output_type": "display_data"
    }
   ],
   "source": [
    "# QQ-plot\n",
    "import statsmodels.api as sm\n",
    "import matplotlib.pyplot as plt\n",
    "# res.anova_std_residuals are standardized residuals obtained from two-way ANOVA (check above)\n",
    "sm.qqplot(res.anova_std_residuals, line='45')\n",
    "plt.xlabel(\"Theoretical Quantiles\")\n",
    "plt.ylabel(\"Standardized Residuals\")\n",
    "plt.show()"
   ]
  },
  {
   "cell_type": "code",
   "execution_count": 38,
   "metadata": {},
   "outputs": [
    {
     "name": "stdout",
     "output_type": "stream",
     "text": [
      "Performing Bartlett statistical test for equal variances on pair: ('setosa', 'versicolor') stat=6.89e+00 p-value=8.66e-03\n",
      "Performing Bartlett statistical test for equal variances on pair: ('setosa', 'virginica') stat=1.60e+01 p-value=6.38e-05\n",
      "Performing Bartlett statistical test for equal variances on pair: ('versicolor', 'virginica') stat=2.09e+00 p-value=1.48e-01\n",
      "pvalues: [0.008659557933880048, 6.378941946712554e-05, 0.14778816016231236]\n"
     ]
    }
   ],
   "source": [
    "df1 = sns.load_dataset(\"iris\")\n",
    "x = \"species\"\n",
    "y = \"sepal_length\"\n",
    "\n",
    "box_pairs = [(\"setosa\", \"versicolor\"), (\"setosa\", \"virginica\"), (\"versicolor\", \"virginica\")]\n",
    "\n",
    "from scipy.stats import bartlett\n",
    "\n",
    "test_short_name = 'Bartlett'\n",
    "pvalues = []\n",
    "for pair in box_pairs:\n",
    "    data1 = df1.groupby(x)[y].get_group(pair[0])\n",
    "    data2 = df1.groupby(x)[y].get_group(pair[1])\n",
    "    stat, p = bartlett(data1, data2)\n",
    "    print(\"Performing Bartlett statistical test for equal variances on pair:\",\n",
    "          pair, \"stat={:.2e} p-value={:.2e}\".format(stat, p))\n",
    "    pvalues.append(p)\n",
    "print(\"pvalues:\", pvalues)"
   ]
  },
  {
   "cell_type": "code",
   "execution_count": 36,
   "metadata": {},
   "outputs": [],
   "source": [
    "from statannot import add_stat_annotation"
   ]
  },
  {
   "cell_type": "code",
   "execution_count": 40,
   "metadata": {},
   "outputs": [
    {
     "name": "stdout",
     "output_type": "stream",
     "text": [
      "p-value annotation legend:\n",
      "ns: 5.00e-02 < p <= 1.00e+00\n",
      "*: 1.00e-02 < p <= 5.00e-02\n",
      "**: 1.00e-03 < p <= 1.00e-02\n",
      "***: 1.00e-04 < p <= 1.00e-03\n",
      "****: p <= 1.00e-04\n",
      "\n",
      "setosa v.s. versicolor: Custom statistical test, P_val:8.660e-03\n",
      "versicolor v.s. virginica: Custom statistical test, P_val:1.478e-01\n",
      "setosa v.s. virginica: Custom statistical test, P_val:6.379e-05\n"
     ]
    },
    {
     "data": {
      "text/plain": [
       "(<AxesSubplot:xlabel='species', ylabel='sepal_length'>,\n",
       " [<statannot.StatResult.StatResult at 0x240b9af73d0>,\n",
       "  <statannot.StatResult.StatResult at 0x240b9b82890>,\n",
       "  <statannot.StatResult.StatResult at 0x240b9b828c0>])"
      ]
     },
     "execution_count": 40,
     "metadata": {},
     "output_type": "execute_result"
    },
    {
     "data": {
      "image/png": "[encoded data removed]",
      "text/plain": [
       "<Figure size 432x288 with 1 Axes>"
      ]
     },
     "metadata": {
      "needs_background": "light"
     },
     "output_type": "display_data"
    }
   ],
   "source": [
    "ax = sns.boxplot(data=df1, x=x, y=y)\n",
    "test_results = add_stat_annotation(ax, data=df1, x=x, y=y,\n",
    "                                   box_pairs=box_pairs,\n",
    "                                   perform_stat_test=False, pvalues=pvalues, test_short_name=test_short_name,\n",
    "                                   text_format='star', verbose=2)\n",
    "test_results"
   ]
  },
  {
   "cell_type": "code",
   "execution_count": 41,
   "metadata": {},
   "outputs": [],
   "source": [
    "df2 = pd.DataFrame({'water': np.repeat(['daily', 'weekly'], 15),\n",
    "                   'sun': np.tile(np.repeat(['low', 'med', 'high'], 5), 2),\n",
    "                   'height': [6, 6, 6, 5, 6, 5, 5, 6, 4, 5,\n",
    "                              6, 6, 7, 8, 7, 3, 4, 4, 4, 5,\n",
    "                              4, 4, 4, 4, 4, 5, 6, 6, 7, 8]})"
   ]
  },
  {
   "cell_type": "code",
   "execution_count": 49,
   "metadata": {},
   "outputs": [
    {
     "data": {
      "image/png": "[encoded data removed]",
      "text/plain": [
       "<Figure size 432x288 with 1 Axes>"
      ]
     },
     "metadata": {
      "needs_background": "light"
     },
     "output_type": "display_data"
    }
   ],
   "source": [
    "df2 =  pd.DataFrame({'water': np.repeat(['daily', 'weekly'], 15),\n",
    "                   'sun': np.tile(np.repeat(['low', 'med', 'high'], 5), 2),\n",
    "                   'height': [6, 6, 6, 5, 6, 5, 5, 6, 4, 5,\n",
    "                              6, 6, 7, 8, 7, 3, 4, 4, 4, 5,\n",
    "                              4, 4, 4, 4, 4, 5, 6, 6, 7, 8]})\n",
    "x = \"sun\"\n",
    "y = \"height\"\n",
    "order = ['low', 'med', 'high']\n",
    "ax = sns.boxplot(data=df2, x=x, y=y, order=order)\n",
    "test_results = add_stat_annotation(ax, data=df2, x=x, y=y, order=order,\n",
    "                                   box_pairs=[(\"low\", \"med\"), (\"low\", \"high\"), (\"med\", \"high\")],\n",
    "                                   text_annot_custom=[\"first pair\", \"second pair\", \"third pair\"],\n",
    "                                   perform_stat_test=False, pvalues=[0, 0, 0],\n",
    "                                   loc='outside', verbose=0)\n",
    "plt.savefig('example_custom_text_annot.png', dpi=300, bbox_inches='tight')"
   ]
  }
 ],
 "metadata": {
  "interpreter": {
   "hash": "80f0110f7c3cd486b9440f1bec1e1bdcec7b5440deadf4b7939e76817772aea9"
  },
  "kernelspec": {
   "display_name": "Python 3.10.3 64-bit",
   "language": "python",
   "name": "python3"
  },
  "language_info": {
   "codemirror_mode": {
    "name": "ipython",
    "version": 3
   },
   "file_extension": ".py",
   "mimetype": "text/x-python",
   "name": "python",
   "nbconvert_exporter": "python",
   "pygments_lexer": "ipython3",
   "version": "3.10.3"
  },
  "orig_nbformat": 4
 },
 "nbformat": 4,
 "nbformat_minor": 2
}
