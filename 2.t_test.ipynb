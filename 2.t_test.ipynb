{
 "cells": [
  {
   "cell_type": "markdown",
   "metadata": {},
   "source": [
    "## Assignment :\n",
    "              ttest and its types\n",
    "## Submitted by:\n",
    "            M.Mohsin ur Rehman\n",
    "## Submitted to:\n",
    "            Dr. Muhammad Ammar Tufail(baba g)            "
   ]
  },
  {
   "cell_type": "markdown",
   "metadata": {},
   "source": [
    "# Parametric Statistical Hypotheses Tests\n",
    "\n",
    "**_1. Student's t-test_**\n",
    "\n",
    "Student’s t-test(by William Sealy Gosset), in statistics, a method of testing hypotheses\n",
    "\n",
    "about the mean of a small sample drawn from a normally distributed\n",
    "\n",
    "population when the population standard deviation is unknown.\n",
    "\n",
    "**Assumptions**\n",
    "\n",
    "Observations in each sample are independent and identically distributed(iid)\\\n",
    "\n",
    "**Interpretation**\n",
    "\n",
    "H0=means samples are equal\n",
    "\n",
    "H1= means samples are unequal\n",
    "\n",
    "# Types:\n",
    "\n",
    "    There are two types of ttest\n",
    "\n",
    "    1.One sample ttest\n",
    "\n",
    "    2.two sample ttest\n",
    "\n",
    "       a.Independent(unpaired)\n",
    "       \n",
    "       b.Paired\n"
   ]
  },
  {
   "cell_type": "code",
   "execution_count": 61,
   "metadata": {},
   "outputs": [],
   "source": [
    "#Importing libraries\n",
    "\n",
    "import seaborn as sns\n",
    "import pandas as pd\n",
    "import numpy as np\n",
    "import scipy.stats"
   ]
  },
  {
   "cell_type": "code",
   "execution_count": 62,
   "metadata": {},
   "outputs": [
    {
     "data": {
      "text/html": [
       "<div>\n",
       "<style scoped>\n",
       "    .dataframe tbody tr th:only-of-type {\n",
       "        vertical-align: middle;\n",
       "    }\n",
       "\n",
       "    .dataframe tbody tr th {\n",
       "        vertical-align: top;\n",
       "    }\n",
       "\n",
       "    .dataframe thead th {\n",
       "        text-align: right;\n",
       "    }\n",
       "</style>\n",
       "<table border=\"1\" class=\"dataframe\">\n",
       "  <thead>\n",
       "    <tr style=\"text-align: right;\">\n",
       "      <th></th>\n",
       "      <th>Dist Code</th>\n",
       "      <th>Year</th>\n",
       "      <th>State Code</th>\n",
       "      <th>State Name</th>\n",
       "      <th>Dist Name</th>\n",
       "      <th>RICE AREA (1000 ha)</th>\n",
       "      <th>RICE PRODUCTION (1000 tons)</th>\n",
       "      <th>RICE YIELD (Kg per ha)</th>\n",
       "      <th>WHEAT AREA (1000 ha)</th>\n",
       "      <th>WHEAT PRODUCTION (1000 tons)</th>\n",
       "      <th>...</th>\n",
       "      <th>SUGARCANE YIELD (Kg per ha)</th>\n",
       "      <th>COTTON AREA (1000 ha)</th>\n",
       "      <th>COTTON PRODUCTION (1000 tons)</th>\n",
       "      <th>COTTON YIELD (Kg per ha)</th>\n",
       "      <th>FRUITS AREA (1000 ha)</th>\n",
       "      <th>VEGETABLES AREA (1000 ha)</th>\n",
       "      <th>FRUITS AND VEGETABLES AREA (1000 ha)</th>\n",
       "      <th>POTATOES AREA (1000 ha)</th>\n",
       "      <th>ONION AREA (1000 ha)</th>\n",
       "      <th>FODDER AREA (1000 ha)</th>\n",
       "    </tr>\n",
       "  </thead>\n",
       "  <tbody>\n",
       "    <tr>\n",
       "      <th>0</th>\n",
       "      <td>1</td>\n",
       "      <td>1978</td>\n",
       "      <td>14</td>\n",
       "      <td>Chhattisgarh</td>\n",
       "      <td>Durg</td>\n",
       "      <td>612.5</td>\n",
       "      <td>362.2</td>\n",
       "      <td>591.35</td>\n",
       "      <td>48.7</td>\n",
       "      <td>25.6</td>\n",
       "      <td>...</td>\n",
       "      <td>2000.0</td>\n",
       "      <td>0.0</td>\n",
       "      <td>0.0</td>\n",
       "      <td>0.0</td>\n",
       "      <td>4.75</td>\n",
       "      <td>8.67</td>\n",
       "      <td>13.41</td>\n",
       "      <td>0.04</td>\n",
       "      <td>0.43</td>\n",
       "      <td>0.34</td>\n",
       "    </tr>\n",
       "    <tr>\n",
       "      <th>1</th>\n",
       "      <td>1</td>\n",
       "      <td>1979</td>\n",
       "      <td>14</td>\n",
       "      <td>Chhattisgarh</td>\n",
       "      <td>Durg</td>\n",
       "      <td>616.8</td>\n",
       "      <td>330.6</td>\n",
       "      <td>535.99</td>\n",
       "      <td>44.6</td>\n",
       "      <td>17.8</td>\n",
       "      <td>...</td>\n",
       "      <td>1000.0</td>\n",
       "      <td>0.0</td>\n",
       "      <td>0.0</td>\n",
       "      <td>0.0</td>\n",
       "      <td>4.76</td>\n",
       "      <td>8.62</td>\n",
       "      <td>13.38</td>\n",
       "      <td>0.06</td>\n",
       "      <td>0.48</td>\n",
       "      <td>0.28</td>\n",
       "    </tr>\n",
       "    <tr>\n",
       "      <th>2</th>\n",
       "      <td>1</td>\n",
       "      <td>1980</td>\n",
       "      <td>14</td>\n",
       "      <td>Chhattisgarh</td>\n",
       "      <td>Durg</td>\n",
       "      <td>634.9</td>\n",
       "      <td>515.6</td>\n",
       "      <td>812.10</td>\n",
       "      <td>44.1</td>\n",
       "      <td>33.6</td>\n",
       "      <td>...</td>\n",
       "      <td>1000.0</td>\n",
       "      <td>0.0</td>\n",
       "      <td>0.0</td>\n",
       "      <td>0.0</td>\n",
       "      <td>4.66</td>\n",
       "      <td>9.57</td>\n",
       "      <td>14.24</td>\n",
       "      <td>0.07</td>\n",
       "      <td>0.47</td>\n",
       "      <td>0.21</td>\n",
       "    </tr>\n",
       "    <tr>\n",
       "      <th>3</th>\n",
       "      <td>1</td>\n",
       "      <td>1981</td>\n",
       "      <td>14</td>\n",
       "      <td>Chhattisgarh</td>\n",
       "      <td>Durg</td>\n",
       "      <td>630.0</td>\n",
       "      <td>506.9</td>\n",
       "      <td>804.60</td>\n",
       "      <td>41.5</td>\n",
       "      <td>23.6</td>\n",
       "      <td>...</td>\n",
       "      <td>1000.0</td>\n",
       "      <td>0.0</td>\n",
       "      <td>0.0</td>\n",
       "      <td>0.0</td>\n",
       "      <td>4.66</td>\n",
       "      <td>9.55</td>\n",
       "      <td>14.21</td>\n",
       "      <td>0.05</td>\n",
       "      <td>0.51</td>\n",
       "      <td>0.27</td>\n",
       "    </tr>\n",
       "    <tr>\n",
       "      <th>4</th>\n",
       "      <td>1</td>\n",
       "      <td>1982</td>\n",
       "      <td>14</td>\n",
       "      <td>Chhattisgarh</td>\n",
       "      <td>Durg</td>\n",
       "      <td>627.9</td>\n",
       "      <td>513.3</td>\n",
       "      <td>817.49</td>\n",
       "      <td>41.1</td>\n",
       "      <td>23.9</td>\n",
       "      <td>...</td>\n",
       "      <td>2000.0</td>\n",
       "      <td>0.0</td>\n",
       "      <td>0.0</td>\n",
       "      <td>0.0</td>\n",
       "      <td>4.70</td>\n",
       "      <td>10.00</td>\n",
       "      <td>14.70</td>\n",
       "      <td>0.08</td>\n",
       "      <td>0.38</td>\n",
       "      <td>0.21</td>\n",
       "    </tr>\n",
       "  </tbody>\n",
       "</table>\n",
       "<p>5 rows × 80 columns</p>\n",
       "</div>"
      ],
      "text/plain": [
       "   Dist Code  Year  State Code    State Name Dist Name  RICE AREA (1000 ha)  \\\n",
       "0          1  1978          14  Chhattisgarh      Durg                612.5   \n",
       "1          1  1979          14  Chhattisgarh      Durg                616.8   \n",
       "2          1  1980          14  Chhattisgarh      Durg                634.9   \n",
       "3          1  1981          14  Chhattisgarh      Durg                630.0   \n",
       "4          1  1982          14  Chhattisgarh      Durg                627.9   \n",
       "\n",
       "   RICE PRODUCTION (1000 tons)  RICE YIELD (Kg per ha)  WHEAT AREA (1000 ha)  \\\n",
       "0                        362.2                  591.35                  48.7   \n",
       "1                        330.6                  535.99                  44.6   \n",
       "2                        515.6                  812.10                  44.1   \n",
       "3                        506.9                  804.60                  41.5   \n",
       "4                        513.3                  817.49                  41.1   \n",
       "\n",
       "   WHEAT PRODUCTION (1000 tons)  ...  SUGARCANE YIELD (Kg per ha)  \\\n",
       "0                          25.6  ...                       2000.0   \n",
       "1                          17.8  ...                       1000.0   \n",
       "2                          33.6  ...                       1000.0   \n",
       "3                          23.6  ...                       1000.0   \n",
       "4                          23.9  ...                       2000.0   \n",
       "\n",
       "   COTTON AREA (1000 ha)  COTTON PRODUCTION (1000 tons)  \\\n",
       "0                    0.0                            0.0   \n",
       "1                    0.0                            0.0   \n",
       "2                    0.0                            0.0   \n",
       "3                    0.0                            0.0   \n",
       "4                    0.0                            0.0   \n",
       "\n",
       "   COTTON YIELD (Kg per ha)  FRUITS AREA (1000 ha)  VEGETABLES AREA (1000 ha)  \\\n",
       "0                       0.0                   4.75                       8.67   \n",
       "1                       0.0                   4.76                       8.62   \n",
       "2                       0.0                   4.66                       9.57   \n",
       "3                       0.0                   4.66                       9.55   \n",
       "4                       0.0                   4.70                      10.00   \n",
       "\n",
       "   FRUITS AND VEGETABLES AREA (1000 ha)  POTATOES AREA (1000 ha)  \\\n",
       "0                                 13.41                     0.04   \n",
       "1                                 13.38                     0.06   \n",
       "2                                 14.24                     0.07   \n",
       "3                                 14.21                     0.05   \n",
       "4                                 14.70                     0.08   \n",
       "\n",
       "   ONION AREA (1000 ha)  FODDER AREA (1000 ha)  \n",
       "0                  0.43                   0.34  \n",
       "1                  0.48                   0.28  \n",
       "2                  0.47                   0.21  \n",
       "3                  0.51                   0.27  \n",
       "4                  0.38                   0.21  \n",
       "\n",
       "[5 rows x 80 columns]"
      ]
     },
     "execution_count": 62,
     "metadata": {},
     "output_type": "execute_result"
    }
   ],
   "source": [
    "#Loading dataset of Indian crops's yield \n",
    "df=pd.read_csv(\"District_Level_Data.csv\")\n",
    "df.head()\n"
   ]
  },
  {
   "cell_type": "code",
   "execution_count": 63,
   "metadata": {},
   "outputs": [
    {
     "data": {
      "text/plain": [
       "Index(['Dist Code', 'Year', 'State Code', 'State Name', 'Dist Name',\n",
       "       'RICE AREA (1000 ha)', 'RICE PRODUCTION (1000 tons)',\n",
       "       'RICE YIELD (Kg per ha)', 'WHEAT AREA (1000 ha)',\n",
       "       'WHEAT PRODUCTION (1000 tons)', 'WHEAT YIELD (Kg per ha)',\n",
       "       'KHARIF SORGHUM AREA (1000 ha)',\n",
       "       'KHARIF SORGHUM PRODUCTION (1000 tons)',\n",
       "       'KHARIF SORGHUM YIELD (Kg per ha)', 'RABI SORGHUM AREA (1000 ha)',\n",
       "       'RABI SORGHUM PRODUCTION (1000 tons)', 'RABI SORGHUM YIELD (Kg per ha)',\n",
       "       'SORGHUM AREA (1000 ha)', 'SORGHUM PRODUCTION (1000 tons)',\n",
       "       'SORGHUM YIELD (Kg per ha)', 'PEARL MILLET AREA (1000 ha)',\n",
       "       'PEARL MILLET PRODUCTION (1000 tons)', 'PEARL MILLET YIELD (Kg per ha)',\n",
       "       'MAIZE AREA (1000 ha)', 'MAIZE PRODUCTION (1000 tons)',\n",
       "       'MAIZE YIELD (Kg per ha)', 'FINGER MILLET AREA (1000 ha)',\n",
       "       'FINGER MILLET PRODUCTION (1000 tons)',\n",
       "       'FINGER MILLET YIELD (Kg per ha)', 'BARLEY AREA (1000 ha)',\n",
       "       'BARLEY PRODUCTION (1000 tons)', 'BARLEY YIELD (Kg per ha)',\n",
       "       'CHICKPEA AREA (1000 ha)', 'CHICKPEA PRODUCTION (1000 tons)',\n",
       "       'CHICKPEA YIELD (Kg per ha)', 'PIGEONPEA AREA (1000 ha)',\n",
       "       'PIGEONPEA PRODUCTION (1000 tons)', 'PIGEONPEA YIELD (Kg per ha)',\n",
       "       'MINOR PULSES AREA (1000 ha)', 'MINOR PULSES PRODUCTION (1000 tons)',\n",
       "       'MINOR PULSES YIELD (Kg per ha)', 'GROUNDNUT AREA (1000 ha)',\n",
       "       'GROUNDNUT PRODUCTION (1000 tons)', 'GROUNDNUT YIELD (Kg per ha)',\n",
       "       'SESAMUM AREA (1000 ha)', 'SESAMUM PRODUCTION (1000 tons)',\n",
       "       'SESAMUM YIELD (Kg per ha)', 'RAPESEED AND MUSTARD AREA (1000 ha)',\n",
       "       'RAPESEED AND MUSTARD PRODUCTION (1000 tons)',\n",
       "       'RAPESEED AND MUSTARD YIELD (Kg per ha)', 'SAFFLOWER AREA (1000 ha)',\n",
       "       'SAFFLOWER PRODUCTION (1000 tons)', 'SAFFLOWER YIELD (Kg per ha)',\n",
       "       'CASTOR AREA (1000 ha)', 'CASTOR PRODUCTION (1000 tons)',\n",
       "       'CASTOR YIELD (Kg per ha)', 'LINSEED AREA (1000 ha)',\n",
       "       'LINSEED PRODUCTION (1000 tons)', 'LINSEED YIELD (Kg per ha)',\n",
       "       'SUNFLOWER AREA (1000 ha)', 'SUNFLOWER PRODUCTION (1000 tons)',\n",
       "       'SUNFLOWER YIELD (Kg per ha)', 'SOYABEAN AREA (1000 ha)',\n",
       "       'SOYABEAN PRODUCTION (1000 tons)', 'SOYABEAN YIELD (Kg per ha)',\n",
       "       'OILSEEDS AREA (1000 ha)', 'OILSEEDS PRODUCTION (1000 tons)',\n",
       "       'OILSEEDS YIELD (Kg per ha)', 'SUGARCANE AREA (1000 ha)',\n",
       "       'SUGARCANE PRODUCTION (1000 tons)', 'SUGARCANE YIELD (Kg per ha)',\n",
       "       'COTTON AREA (1000 ha)', 'COTTON PRODUCTION (1000 tons)',\n",
       "       'COTTON YIELD (Kg per ha)', 'FRUITS AREA (1000 ha)',\n",
       "       'VEGETABLES AREA (1000 ha)', 'FRUITS AND VEGETABLES AREA (1000 ha)',\n",
       "       'POTATOES AREA (1000 ha)', 'ONION AREA (1000 ha)',\n",
       "       'FODDER AREA (1000 ha)'],\n",
       "      dtype='object')"
      ]
     },
     "execution_count": 63,
     "metadata": {},
     "output_type": "execute_result"
    }
   ],
   "source": [
    "#subsetting\n",
    "df.columns"
   ]
  },
  {
   "cell_type": "code",
   "execution_count": 64,
   "metadata": {},
   "outputs": [
    {
     "data": {
      "text/html": [
       "<div>\n",
       "<style scoped>\n",
       "    .dataframe tbody tr th:only-of-type {\n",
       "        vertical-align: middle;\n",
       "    }\n",
       "\n",
       "    .dataframe tbody tr th {\n",
       "        vertical-align: top;\n",
       "    }\n",
       "\n",
       "    .dataframe thead th {\n",
       "        text-align: right;\n",
       "    }\n",
       "</style>\n",
       "<table border=\"1\" class=\"dataframe\">\n",
       "  <thead>\n",
       "    <tr style=\"text-align: right;\">\n",
       "      <th></th>\n",
       "      <th>State Name</th>\n",
       "      <th>RICE YIELD (Kg per ha)</th>\n",
       "      <th>WHEAT YIELD (Kg per ha)</th>\n",
       "    </tr>\n",
       "  </thead>\n",
       "  <tbody>\n",
       "    <tr>\n",
       "      <th>0</th>\n",
       "      <td>Chhattisgarh</td>\n",
       "      <td>591.35</td>\n",
       "      <td>525.67</td>\n",
       "    </tr>\n",
       "    <tr>\n",
       "      <th>1</th>\n",
       "      <td>Chhattisgarh</td>\n",
       "      <td>535.99</td>\n",
       "      <td>399.10</td>\n",
       "    </tr>\n",
       "    <tr>\n",
       "      <th>2</th>\n",
       "      <td>Chhattisgarh</td>\n",
       "      <td>812.10</td>\n",
       "      <td>761.90</td>\n",
       "    </tr>\n",
       "    <tr>\n",
       "      <th>3</th>\n",
       "      <td>Chhattisgarh</td>\n",
       "      <td>804.60</td>\n",
       "      <td>568.67</td>\n",
       "    </tr>\n",
       "    <tr>\n",
       "      <th>4</th>\n",
       "      <td>Chhattisgarh</td>\n",
       "      <td>817.49</td>\n",
       "      <td>581.51</td>\n",
       "    </tr>\n",
       "    <tr>\n",
       "      <th>...</th>\n",
       "      <td>...</td>\n",
       "      <td>...</td>\n",
       "      <td>...</td>\n",
       "    </tr>\n",
       "    <tr>\n",
       "      <th>12413</th>\n",
       "      <td>Jharkhand</td>\n",
       "      <td>2170.67</td>\n",
       "      <td>1209.15</td>\n",
       "    </tr>\n",
       "    <tr>\n",
       "      <th>12414</th>\n",
       "      <td>Jharkhand</td>\n",
       "      <td>2288.57</td>\n",
       "      <td>1240.67</td>\n",
       "    </tr>\n",
       "    <tr>\n",
       "      <th>12415</th>\n",
       "      <td>Jharkhand</td>\n",
       "      <td>1005.70</td>\n",
       "      <td>914.57</td>\n",
       "    </tr>\n",
       "    <tr>\n",
       "      <th>12416</th>\n",
       "      <td>Jharkhand</td>\n",
       "      <td>1423.84</td>\n",
       "      <td>2167.98</td>\n",
       "    </tr>\n",
       "    <tr>\n",
       "      <th>12417</th>\n",
       "      <td>Jharkhand</td>\n",
       "      <td>1731.62</td>\n",
       "      <td>0.00</td>\n",
       "    </tr>\n",
       "  </tbody>\n",
       "</table>\n",
       "<p>12418 rows × 3 columns</p>\n",
       "</div>"
      ],
      "text/plain": [
       "         State Name  RICE YIELD (Kg per ha)  WHEAT YIELD (Kg per ha)\n",
       "0      Chhattisgarh                  591.35                   525.67\n",
       "1      Chhattisgarh                  535.99                   399.10\n",
       "2      Chhattisgarh                  812.10                   761.90\n",
       "3      Chhattisgarh                  804.60                   568.67\n",
       "4      Chhattisgarh                  817.49                   581.51\n",
       "...             ...                     ...                      ...\n",
       "12413     Jharkhand                 2170.67                  1209.15\n",
       "12414     Jharkhand                 2288.57                  1240.67\n",
       "12415     Jharkhand                 1005.70                   914.57\n",
       "12416     Jharkhand                 1423.84                  2167.98\n",
       "12417     Jharkhand                 1731.62                     0.00\n",
       "\n",
       "[12418 rows x 3 columns]"
      ]
     },
     "execution_count": 64,
     "metadata": {},
     "output_type": "execute_result"
    }
   ],
   "source": [
    "# Selecting columns\n",
    "df=df[[\"State Name\",\"RICE YIELD (Kg per ha)\",\"WHEAT YIELD (Kg per ha)\"]]\n",
    "df"
   ]
  },
  {
   "cell_type": "code",
   "execution_count": 65,
   "metadata": {},
   "outputs": [
    {
     "data": {
      "text/plain": [
       "State Name                 0\n",
       "RICE YIELD (Kg per ha)     0\n",
       "WHEAT YIELD (Kg per ha)    0\n",
       "dtype: int64"
      ]
     },
     "execution_count": 65,
     "metadata": {},
     "output_type": "execute_result"
    }
   ],
   "source": [
    "# Check null values\n",
    "df.isnull().sum()"
   ]
  },
  {
   "cell_type": "code",
   "execution_count": 66,
   "metadata": {},
   "outputs": [
    {
     "data": {
      "text/plain": [
       "(12418, 3)"
      ]
     },
     "execution_count": 66,
     "metadata": {},
     "output_type": "execute_result"
    }
   ],
   "source": [
    "# shape\n",
    "df.shape"
   ]
  },
  {
   "cell_type": "code",
   "execution_count": 67,
   "metadata": {},
   "outputs": [
    {
     "data": {
      "text/html": [
       "<div>\n",
       "<style scoped>\n",
       "    .dataframe tbody tr th:only-of-type {\n",
       "        vertical-align: middle;\n",
       "    }\n",
       "\n",
       "    .dataframe tbody tr th {\n",
       "        vertical-align: top;\n",
       "    }\n",
       "\n",
       "    .dataframe thead th {\n",
       "        text-align: right;\n",
       "    }\n",
       "</style>\n",
       "<table border=\"1\" class=\"dataframe\">\n",
       "  <thead>\n",
       "    <tr style=\"text-align: right;\">\n",
       "      <th></th>\n",
       "      <th>RICE YIELD (Kg per ha)</th>\n",
       "      <th>WHEAT YIELD (Kg per ha)</th>\n",
       "    </tr>\n",
       "  </thead>\n",
       "  <tbody>\n",
       "    <tr>\n",
       "      <th>count</th>\n",
       "      <td>12418.000000</td>\n",
       "      <td>12418.000000</td>\n",
       "    </tr>\n",
       "    <tr>\n",
       "      <th>mean</th>\n",
       "      <td>1636.636947</td>\n",
       "      <td>1662.473753</td>\n",
       "    </tr>\n",
       "    <tr>\n",
       "      <th>std</th>\n",
       "      <td>990.500973</td>\n",
       "      <td>1129.212843</td>\n",
       "    </tr>\n",
       "    <tr>\n",
       "      <th>min</th>\n",
       "      <td>-1.000000</td>\n",
       "      <td>-1.000000</td>\n",
       "    </tr>\n",
       "    <tr>\n",
       "      <th>25%</th>\n",
       "      <td>926.472500</td>\n",
       "      <td>929.885000</td>\n",
       "    </tr>\n",
       "    <tr>\n",
       "      <th>50%</th>\n",
       "      <td>1539.035000</td>\n",
       "      <td>1562.035000</td>\n",
       "    </tr>\n",
       "    <tr>\n",
       "      <th>75%</th>\n",
       "      <td>2297.180000</td>\n",
       "      <td>2375.835000</td>\n",
       "    </tr>\n",
       "    <tr>\n",
       "      <th>max</th>\n",
       "      <td>5653.830000</td>\n",
       "      <td>5541.520000</td>\n",
       "    </tr>\n",
       "  </tbody>\n",
       "</table>\n",
       "</div>"
      ],
      "text/plain": [
       "       RICE YIELD (Kg per ha)  WHEAT YIELD (Kg per ha)\n",
       "count            12418.000000             12418.000000\n",
       "mean              1636.636947              1662.473753\n",
       "std                990.500973              1129.212843\n",
       "min                 -1.000000                -1.000000\n",
       "25%                926.472500               929.885000\n",
       "50%               1539.035000              1562.035000\n",
       "75%               2297.180000              2375.835000\n",
       "max               5653.830000              5541.520000"
      ]
     },
     "execution_count": 67,
     "metadata": {},
     "output_type": "execute_result"
    }
   ],
   "source": [
    "# Descibe\n",
    "df.describe()"
   ]
  },
  {
   "cell_type": "code",
   "execution_count": 68,
   "metadata": {},
   "outputs": [
    {
     "data": {
      "text/plain": [
       "<AxesSubplot:xlabel='WHEAT YIELD (Kg per ha)', ylabel='Count'>"
      ]
     },
     "execution_count": 68,
     "metadata": {},
     "output_type": "execute_result"
    },
    {
     "data": {
      "image/png": "[encoded data removed]",
      "text/plain": [
       "<Figure size 432x288 with 1 Axes>"
      ]
     },
     "metadata": {
      "needs_background": "light"
     },
     "output_type": "display_data"
    }
   ],
   "source": [
    "# check Normality by visualization\n",
    "# Histogram\n",
    "sns.histplot(df[\"WHEAT YIELD (Kg per ha)\"])"
   ]
  },
  {
   "cell_type": "code",
   "execution_count": 69,
   "metadata": {},
   "outputs": [
    {
     "data": {
      "text/plain": [
       "<AxesSubplot:xlabel='RICE YIELD (Kg per ha)', ylabel='Count'>"
      ]
     },
     "execution_count": 69,
     "metadata": {},
     "output_type": "execute_result"
    },
    {
     "data": {
      "image/png": "[encoded data removed]",
      "text/plain": [
       "<Figure size 432x288 with 1 Axes>"
      ]
     },
     "metadata": {
      "needs_background": "light"
     },
     "output_type": "display_data"
    }
   ],
   "source": [
    "sns.histplot(df[\"RICE YIELD (Kg per ha)\"])"
   ]
  },
  {
   "cell_type": "code",
   "execution_count": 103,
   "metadata": {},
   "outputs": [],
   "source": [
    "# check normality by statistical test\n",
    "# shapiro wilk test\n",
    "# import library\n",
    "from scipy.stats import shapiro"
   ]
  },
  {
   "cell_type": "code",
   "execution_count": 71,
   "metadata": {},
   "outputs": [
    {
     "name": "stdout",
     "output_type": "stream",
     "text": [
      "stat=0.978\n",
      "p=0.000\n",
      "data is not normal\n"
     ]
    },
    {
     "name": "stderr",
     "output_type": "stream",
     "text": [
      "C:\\Users\\mohsin.DESKTOP-7I5HD4K\\AppData\\Local\\Programs\\Python\\Python39\\lib\\site-packages\\scipy\\stats\\_morestats.py:1761: UserWarning: p-value may not be accurate for N > 5000.\n",
      "  warnings.warn(\"p-value may not be accurate for N > 5000.\")\n"
     ]
    }
   ],
   "source": [
    "# Shapiro wilk test\n",
    "stat,p=shapiro(df[\"RICE YIELD (Kg per ha)\"])\n",
    "print(\"stat=%.3f\" % stat) #Replace , with % to get ans upto 3 decimal digits\n",
    "print(\"p=%.3f\" % p)\n",
    "\n",
    "\n",
    "if  p > 0.05: \n",
    "    print(\"data is normal\")\n",
    "else:\n",
    "    print(\"data is not normal\")  "
   ]
  },
  {
   "cell_type": "code",
   "execution_count": 72,
   "metadata": {},
   "outputs": [
    {
     "name": "stderr",
     "output_type": "stream",
     "text": [
      "C:\\Users\\mohsin.DESKTOP-7I5HD4K\\AppData\\Local\\Programs\\Python\\Python39\\lib\\site-packages\\pandas\\core\\arraylike.py:397: RuntimeWarning: divide by zero encountered in log\n",
      "  result = getattr(ufunc, method)(*inputs, **kwargs)\n",
      "C:\\Users\\mohsin.DESKTOP-7I5HD4K\\AppData\\Local\\Programs\\Python\\Python39\\lib\\site-packages\\pandas\\core\\arraylike.py:397: RuntimeWarning: invalid value encountered in log\n",
      "  result = getattr(ufunc, method)(*inputs, **kwargs)\n"
     ]
    }
   ],
   "source": [
    "# Using log-transformation test to normalize data\n",
    "df[\"RICE YIELD (Kg per ha)\"]=np.log(df[\"RICE YIELD (Kg per ha)\"])\n",
    "# df=df.rename(columns={\"RICE YIELD (Kg per ha)\":\"log(RICE YIELD (Kg per ha))\"})"
   ]
  },
  {
   "cell_type": "code",
   "execution_count": 73,
   "metadata": {},
   "outputs": [],
   "source": [
    "#Updating column name\n",
    "df.rename(columns={\"RICE YIELD (Kg per ha)\":\"log(RICE YIELD (Kg per ha))\"}, inplace=True)"
   ]
  },
  {
   "cell_type": "code",
   "execution_count": 74,
   "metadata": {},
   "outputs": [
    {
     "name": "stdout",
     "output_type": "stream",
     "text": [
      "stat=nan\n",
      "p=1.000\n",
      "data is normal\n"
     ]
    },
    {
     "name": "stderr",
     "output_type": "stream",
     "text": [
      "C:\\Users\\mohsin.DESKTOP-7I5HD4K\\AppData\\Local\\Programs\\Python\\Python39\\lib\\site-packages\\scipy\\stats\\_morestats.py:1761: UserWarning: p-value may not be accurate for N > 5000.\n",
      "  warnings.warn(\"p-value may not be accurate for N > 5000.\")\n"
     ]
    }
   ],
   "source": [
    "# Again shapiro wilk test\n",
    "stat,p=shapiro(df[\"log(RICE YIELD (Kg per ha))\"])\n",
    "print(\"stat=%.3f\" % stat) #Replace , with % to get ans upto 3 decimal digits\n",
    "print(\"p=%.3f\" % p)\n",
    "\n",
    "if  p > 0.05: \n",
    "    print(\"data is normal\")\n",
    "else:\n",
    "    print(\"data is not normal\")"
   ]
  },
  {
   "cell_type": "code",
   "execution_count": 75,
   "metadata": {},
   "outputs": [
    {
     "name": "stdout",
     "output_type": "stream",
     "text": [
      "stat=0.964\n",
      "p=0.000\n",
      "data is not normal\n"
     ]
    }
   ],
   "source": [
    "# checking normality of other column\n",
    "stat,p=shapiro(df[\"WHEAT YIELD (Kg per ha)\"])\n",
    "print(\"stat=%.3f\" % stat) #Replace , with % to get ans upto 3 decimal digits\n",
    "print(\"p=%.3f\" % p)\n",
    "\n",
    "\n",
    "if  p > 0.05: \n",
    "    print(\"data is normal\")\n",
    "else:\n",
    "    print(\"data is not normal\") "
   ]
  },
  {
   "cell_type": "code",
   "execution_count": 76,
   "metadata": {},
   "outputs": [
    {
     "name": "stderr",
     "output_type": "stream",
     "text": [
      "C:\\Users\\mohsin.DESKTOP-7I5HD4K\\AppData\\Local\\Programs\\Python\\Python39\\lib\\site-packages\\pandas\\core\\arraylike.py:397: RuntimeWarning: divide by zero encountered in log\n",
      "  result = getattr(ufunc, method)(*inputs, **kwargs)\n",
      "C:\\Users\\mohsin.DESKTOP-7I5HD4K\\AppData\\Local\\Programs\\Python\\Python39\\lib\\site-packages\\pandas\\core\\arraylike.py:397: RuntimeWarning: invalid value encountered in log\n",
      "  result = getattr(ufunc, method)(*inputs, **kwargs)\n"
     ]
    },
    {
     "data": {
      "text/html": [
       "<div>\n",
       "<style scoped>\n",
       "    .dataframe tbody tr th:only-of-type {\n",
       "        vertical-align: middle;\n",
       "    }\n",
       "\n",
       "    .dataframe tbody tr th {\n",
       "        vertical-align: top;\n",
       "    }\n",
       "\n",
       "    .dataframe thead th {\n",
       "        text-align: right;\n",
       "    }\n",
       "</style>\n",
       "<table border=\"1\" class=\"dataframe\">\n",
       "  <thead>\n",
       "    <tr style=\"text-align: right;\">\n",
       "      <th></th>\n",
       "      <th>State Name</th>\n",
       "      <th>log(RICE YIELD (Kg per ha))</th>\n",
       "      <th>WHEAT YIELD (Kg per ha)</th>\n",
       "    </tr>\n",
       "  </thead>\n",
       "  <tbody>\n",
       "    <tr>\n",
       "      <th>0</th>\n",
       "      <td>Chhattisgarh</td>\n",
       "      <td>6.382408</td>\n",
       "      <td>6.264674</td>\n",
       "    </tr>\n",
       "    <tr>\n",
       "      <th>1</th>\n",
       "      <td>Chhattisgarh</td>\n",
       "      <td>6.284116</td>\n",
       "      <td>5.989212</td>\n",
       "    </tr>\n",
       "    <tr>\n",
       "      <th>2</th>\n",
       "      <td>Chhattisgarh</td>\n",
       "      <td>6.699623</td>\n",
       "      <td>6.635815</td>\n",
       "    </tr>\n",
       "    <tr>\n",
       "      <th>3</th>\n",
       "      <td>Chhattisgarh</td>\n",
       "      <td>6.690345</td>\n",
       "      <td>6.343300</td>\n",
       "    </tr>\n",
       "    <tr>\n",
       "      <th>4</th>\n",
       "      <td>Chhattisgarh</td>\n",
       "      <td>6.706239</td>\n",
       "      <td>6.365628</td>\n",
       "    </tr>\n",
       "    <tr>\n",
       "      <th>...</th>\n",
       "      <td>...</td>\n",
       "      <td>...</td>\n",
       "      <td>...</td>\n",
       "    </tr>\n",
       "    <tr>\n",
       "      <th>12413</th>\n",
       "      <td>Jharkhand</td>\n",
       "      <td>7.682791</td>\n",
       "      <td>7.097673</td>\n",
       "    </tr>\n",
       "    <tr>\n",
       "      <th>12414</th>\n",
       "      <td>Jharkhand</td>\n",
       "      <td>7.735682</td>\n",
       "      <td>7.123407</td>\n",
       "    </tr>\n",
       "    <tr>\n",
       "      <th>12415</th>\n",
       "      <td>Jharkhand</td>\n",
       "      <td>6.913439</td>\n",
       "      <td>6.818454</td>\n",
       "    </tr>\n",
       "    <tr>\n",
       "      <th>12416</th>\n",
       "      <td>Jharkhand</td>\n",
       "      <td>7.261113</td>\n",
       "      <td>7.681551</td>\n",
       "    </tr>\n",
       "    <tr>\n",
       "      <th>12417</th>\n",
       "      <td>Jharkhand</td>\n",
       "      <td>7.456813</td>\n",
       "      <td>-inf</td>\n",
       "    </tr>\n",
       "  </tbody>\n",
       "</table>\n",
       "<p>12418 rows × 3 columns</p>\n",
       "</div>"
      ],
      "text/plain": [
       "         State Name  log(RICE YIELD (Kg per ha))  WHEAT YIELD (Kg per ha)\n",
       "0      Chhattisgarh                     6.382408                 6.264674\n",
       "1      Chhattisgarh                     6.284116                 5.989212\n",
       "2      Chhattisgarh                     6.699623                 6.635815\n",
       "3      Chhattisgarh                     6.690345                 6.343300\n",
       "4      Chhattisgarh                     6.706239                 6.365628\n",
       "...             ...                          ...                      ...\n",
       "12413     Jharkhand                     7.682791                 7.097673\n",
       "12414     Jharkhand                     7.735682                 7.123407\n",
       "12415     Jharkhand                     6.913439                 6.818454\n",
       "12416     Jharkhand                     7.261113                 7.681551\n",
       "12417     Jharkhand                     7.456813                     -inf\n",
       "\n",
       "[12418 rows x 3 columns]"
      ]
     },
     "execution_count": 76,
     "metadata": {},
     "output_type": "execute_result"
    }
   ],
   "source": [
    "# Using log-transformation test to normalize data\n",
    "df[\"WHEAT YIELD (Kg per ha)\"] = np.log(df[\"WHEAT YIELD (Kg per ha)\"])\n",
    "df"
   ]
  },
  {
   "cell_type": "code",
   "execution_count": 77,
   "metadata": {},
   "outputs": [],
   "source": [
    "#Updating column name\n",
    "df.rename(columns={\"WHEAT YIELD (Kg per ha)\":\"log(WHEAT YIELD (Kg per ha))\"}, inplace=True)"
   ]
  },
  {
   "cell_type": "code",
   "execution_count": 79,
   "metadata": {},
   "outputs": [
    {
     "name": "stdout",
     "output_type": "stream",
     "text": [
      "stat=nan\n",
      "p=1.000\n",
      "data is normal\n"
     ]
    },
    {
     "name": "stderr",
     "output_type": "stream",
     "text": [
      "C:\\Users\\mohsin.DESKTOP-7I5HD4K\\AppData\\Local\\Programs\\Python\\Python39\\lib\\site-packages\\scipy\\stats\\_morestats.py:1761: UserWarning: p-value may not be accurate for N > 5000.\n",
      "  warnings.warn(\"p-value may not be accurate for N > 5000.\")\n"
     ]
    }
   ],
   "source": [
    "# Again shapiro wilk test\n",
    "stat,p=shapiro(df[\"log(WHEAT YIELD (Kg per ha))\"])\n",
    "print(\"stat=%.3f\" % stat) #Replace , with % to get ans upto 3 decimal digits\n",
    "print(\"p=%.3f\" % p)\n",
    "\n",
    "if  p > 0.05: \n",
    "    print(\"data is normal\")\n",
    "else:\n",
    "    print(\"data is not normal\")"
   ]
  },
  {
   "cell_type": "code",
   "execution_count": 80,
   "metadata": {},
   "outputs": [
    {
     "data": {
      "text/html": [
       "<div>\n",
       "<style scoped>\n",
       "    .dataframe tbody tr th:only-of-type {\n",
       "        vertical-align: middle;\n",
       "    }\n",
       "\n",
       "    .dataframe tbody tr th {\n",
       "        vertical-align: top;\n",
       "    }\n",
       "\n",
       "    .dataframe thead th {\n",
       "        text-align: right;\n",
       "    }\n",
       "</style>\n",
       "<table border=\"1\" class=\"dataframe\">\n",
       "  <thead>\n",
       "    <tr style=\"text-align: right;\">\n",
       "      <th></th>\n",
       "      <th>State Name</th>\n",
       "      <th>log(RICE YIELD (Kg per ha))</th>\n",
       "      <th>log(WHEAT YIELD (Kg per ha))</th>\n",
       "    </tr>\n",
       "  </thead>\n",
       "  <tbody>\n",
       "    <tr>\n",
       "      <th>0</th>\n",
       "      <td>Chhattisgarh</td>\n",
       "      <td>6.382408</td>\n",
       "      <td>6.264674</td>\n",
       "    </tr>\n",
       "    <tr>\n",
       "      <th>1</th>\n",
       "      <td>Chhattisgarh</td>\n",
       "      <td>6.284116</td>\n",
       "      <td>5.989212</td>\n",
       "    </tr>\n",
       "    <tr>\n",
       "      <th>2</th>\n",
       "      <td>Chhattisgarh</td>\n",
       "      <td>6.699623</td>\n",
       "      <td>6.635815</td>\n",
       "    </tr>\n",
       "    <tr>\n",
       "      <th>3</th>\n",
       "      <td>Chhattisgarh</td>\n",
       "      <td>6.690345</td>\n",
       "      <td>6.343300</td>\n",
       "    </tr>\n",
       "    <tr>\n",
       "      <th>4</th>\n",
       "      <td>Chhattisgarh</td>\n",
       "      <td>6.706239</td>\n",
       "      <td>6.365628</td>\n",
       "    </tr>\n",
       "  </tbody>\n",
       "</table>\n",
       "</div>"
      ],
      "text/plain": [
       "     State Name  log(RICE YIELD (Kg per ha))  log(WHEAT YIELD (Kg per ha))\n",
       "0  Chhattisgarh                     6.382408                      6.264674\n",
       "1  Chhattisgarh                     6.284116                      5.989212\n",
       "2  Chhattisgarh                     6.699623                      6.635815\n",
       "3  Chhattisgarh                     6.690345                      6.343300\n",
       "4  Chhattisgarh                     6.706239                      6.365628"
      ]
     },
     "execution_count": 80,
     "metadata": {},
     "output_type": "execute_result"
    }
   ],
   "source": [
    "df.head()"
   ]
  },
  {
   "cell_type": "code",
   "execution_count": 81,
   "metadata": {},
   "outputs": [
    {
     "name": "stdout",
     "output_type": "stream",
     "text": [
      "stat= nan\n",
      "p= nan\n",
      "probably different distribution\n"
     ]
    }
   ],
   "source": [
    "# Now we move forward\n",
    "# Apply parametric test\n",
    "# ttest\n",
    "## 1-sample ttest\n",
    "\n",
    "from scipy.stats import ttest_1samp\n",
    "stat,p=ttest_1samp(df['log(WHEAT YIELD (Kg per ha))'],2)\n",
    "print(\"stat=\",stat)\n",
    "print(\"p=\",p)\n",
    "\n",
    "if  p > 0.05: \n",
    "    print(\"probably same distribution\")\n",
    "else:\n",
    "    print(\"probably different distribution\") "
   ]
  },
  {
   "cell_type": "code",
   "execution_count": 82,
   "metadata": {},
   "outputs": [
    {
     "data": {
      "text/html": [
       "<div>\n",
       "<style scoped>\n",
       "    .dataframe tbody tr th:only-of-type {\n",
       "        vertical-align: middle;\n",
       "    }\n",
       "\n",
       "    .dataframe tbody tr th {\n",
       "        vertical-align: top;\n",
       "    }\n",
       "\n",
       "    .dataframe thead th {\n",
       "        text-align: right;\n",
       "    }\n",
       "</style>\n",
       "<table border=\"1\" class=\"dataframe\">\n",
       "  <thead>\n",
       "    <tr style=\"text-align: right;\">\n",
       "      <th></th>\n",
       "      <th>State Name</th>\n",
       "      <th>log(RICE YIELD (Kg per ha))</th>\n",
       "      <th>log(WHEAT YIELD (Kg per ha))</th>\n",
       "    </tr>\n",
       "  </thead>\n",
       "  <tbody>\n",
       "    <tr>\n",
       "      <th>0</th>\n",
       "      <td>Chhattisgarh</td>\n",
       "      <td>6.382408</td>\n",
       "      <td>6.264674</td>\n",
       "    </tr>\n",
       "    <tr>\n",
       "      <th>1</th>\n",
       "      <td>Chhattisgarh</td>\n",
       "      <td>6.284116</td>\n",
       "      <td>5.989212</td>\n",
       "    </tr>\n",
       "    <tr>\n",
       "      <th>2</th>\n",
       "      <td>Chhattisgarh</td>\n",
       "      <td>6.699623</td>\n",
       "      <td>6.635815</td>\n",
       "    </tr>\n",
       "    <tr>\n",
       "      <th>3</th>\n",
       "      <td>Chhattisgarh</td>\n",
       "      <td>6.690345</td>\n",
       "      <td>6.343300</td>\n",
       "    </tr>\n",
       "    <tr>\n",
       "      <th>4</th>\n",
       "      <td>Chhattisgarh</td>\n",
       "      <td>6.706239</td>\n",
       "      <td>6.365628</td>\n",
       "    </tr>\n",
       "  </tbody>\n",
       "</table>\n",
       "</div>"
      ],
      "text/plain": [
       "     State Name  log(RICE YIELD (Kg per ha))  log(WHEAT YIELD (Kg per ha))\n",
       "0  Chhattisgarh                     6.382408                      6.264674\n",
       "1  Chhattisgarh                     6.284116                      5.989212\n",
       "2  Chhattisgarh                     6.699623                      6.635815\n",
       "3  Chhattisgarh                     6.690345                      6.343300\n",
       "4  Chhattisgarh                     6.706239                      6.365628"
      ]
     },
     "execution_count": 82,
     "metadata": {},
     "output_type": "execute_result"
    }
   ],
   "source": [
    "df.head()"
   ]
  },
  {
   "cell_type": "code",
   "execution_count": 84,
   "metadata": {},
   "outputs": [
    {
     "data": {
      "text/plain": [
       "array(['Chhattisgarh', 'Madhya Pradesh', 'Andhra Pradesh', 'Telangana',\n",
       "       'Karnataka', 'Tamil Nadu', 'Maharashtra', 'Gujarat', 'Rajasthan',\n",
       "       'Punjab', 'Haryana', 'Uttar Pradesh', 'Uttarakhand', 'Assam',\n",
       "       'Himachal Pradesh', 'Kerala', 'Orissa', 'West Bengal', 'Bihar',\n",
       "       'Jharkhand'], dtype=object)"
      ]
     },
     "execution_count": 84,
     "metadata": {},
     "output_type": "execute_result"
    }
   ],
   "source": [
    "df[\"State Name\"].unique()"
   ]
  },
  {
   "cell_type": "code",
   "execution_count": 92,
   "metadata": {},
   "outputs": [
    {
     "name": "stdout",
     "output_type": "stream",
     "text": [
      "stat= 31.08268008417318\n",
      "p= 3.962979971775452e-177\n",
      "significance difference\n"
     ]
    }
   ],
   "source": [
    "# 2-sample ttest (independent)\n",
    "\n",
    "from scipy.stats import ttest_ind\n",
    "df_punjab=df[df[\"State Name\"]==\"Punjab\"]\n",
    "df_UttarPradesh=df[df[\"State Name\"]==\"Uttar Pradesh\"]\n",
    "stat,p=ttest_ind(df_punjab[\"log(RICE YIELD (Kg per ha))\"],df_UttarPradesh[\"log(RICE YIELD (Kg per ha))\"])\n",
    "print(\"stat=\",stat)\n",
    "print(\"p=\",p)\n",
    "\n",
    "if  p > 0.05: \n",
    "    print(\"no significant diffrence\")\n",
    "else:\n",
    "    print(\"significance difference\") \n"
   ]
  },
  {
   "cell_type": "code",
   "execution_count": 102,
   "metadata": {},
   "outputs": [
    {
     "name": "stdout",
     "output_type": "stream",
     "text": [
      "stat= 10.63496935837545\n",
      "p= 4.52682288998079e-18\n",
      "significant difference\n"
     ]
    }
   ],
   "source": [
    "# Now 2-sample(paired ttest)\n",
    "# First we do equal the length of both groups\n",
    "\n",
    "from scipy.stats import ttest_rel\n",
    "\n",
    "df_punjab_eq=df_punjab.sample(n=100)\n",
    "df_UttarPradesh_eq=df_UttarPradesh.sample(n=100)\n",
    "\n",
    "stat,p=ttest_rel(df_punjab_eq[\"log(WHEAT YIELD (Kg per ha))\"],df_UttarPradesh_eq[\"log(WHEAT YIELD (Kg per ha))\"])\n",
    "print(\"stat=\",stat)\n",
    "print(\"p=\",p)\n",
    "\n",
    "if  p > 0.05: \n",
    "    print(\"no significant diffrence\")\n",
    "else:\n",
    "    print(\"significant difference\") "
   ]
  }
 ],
 "metadata": {
  "interpreter": {
   "hash": "6ed72ae8ad7d75afef41bc95e963b65f626fd01a77ebf178e484d9ccac9686f1"
  },
  "kernelspec": {
   "display_name": "Python 3.9.12 64-bit",
   "language": "python",
   "name": "python3"
  },
  "language_info": {
   "codemirror_mode": {
    "name": "ipython",
    "version": 3
   },
   "file_extension": ".py",
   "mimetype": "text/x-python",
   "name": "python",
   "nbconvert_exporter": "python",
   "pygments_lexer": "ipython3",
   "version": "3.9.12"
  },
  "orig_nbformat": 4
 },
 "nbformat": 4,
 "nbformat_minor": 2
}
